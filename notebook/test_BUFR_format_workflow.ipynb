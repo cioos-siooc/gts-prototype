{
  "cells": [
    {
      "cell_type": "markdown",
      "metadata": {
        "id": "9elvyziqnCzW"
      },
      "source": [
        "# Convert ERDDAP to BUFR \n",
        "## Explore BUFR Format\n",
        "\n",
        "This is inspired by example:\n",
        "https://github.com/wmo-im/CSV2BUFR\n",
        "\n",
        "## GOOGLE COLAB Installation\n"
      ]
    },
    {
      "cell_type": "code",
      "execution_count": null,
      "metadata": {
        "colab": {
          "base_uri": "https://localhost:8080/"
        },
        "id": "sKNak4umocPW",
        "outputId": "a4327e53-e65c-4089-9349-e0c23a3b022b"
      },
      "outputs": [],
      "source": [
        "# Let's first install CONDA on the google Colab to make easier to install ecCodes\n",
        "################################################################################\n",
        "# INSTALL CONDA ON GOOGLE COLAB\n",
        "################################################################################\n",
        "! wget https://repo.anaconda.com/miniconda/Miniconda3-py37_4.8.2-Linux-x86_64.sh\n",
        "! chmod +x Miniconda3-py37_4.8.2-Linux-x86_64.sh\n",
        "! bash ./Miniconda3-py37_4.8.2-Linux-x86_64.sh -b -f -p /usr/local\n",
        "import sys\n",
        "sys.path.append('/usr/local/lib/python3.7/site-packages/')"
      ]
    },
    {
      "cell_type": "code",
      "execution_count": null,
      "metadata": {
        "colab": {
          "base_uri": "https://localhost:8080/"
        },
        "id": "Puv10YHLnapI",
        "outputId": "b5e76265-973c-4d2a-ad8e-184c52eb8c18"
      },
      "outputs": [],
      "source": [
        "# Install ecCodes\n",
        "# That make take a little while\n",
        "!conda install -c conda-forge eccodes\n",
        "\n",
        "!pip install eccodes"
      ]
    },
    {
      "cell_type": "markdown",
      "metadata": {
        "id": "Bi5LI8p1PBOT"
      },
      "source": [
        "# Import Packages"
      ]
    },
    {
      "cell_type": "code",
      "execution_count": null,
      "metadata": {
        "id": "tV7T_R6_tdT4"
      },
      "outputs": [],
      "source": [
        "from eccodes import *\n",
        "\n",
        "import pandas as pd\n",
        "from ipywidgets import interact_manual\n",
        "\n",
        "import json\n",
        "import re"
      ]
    },
    {
      "cell_type": "markdown",
      "metadata": {
        "id": "x6ymJBxELDWb"
      },
      "source": [
        "# Review BUFR Tables\n",
        "\n",
        "Here's a small interactive tool to review the different BUFR tables hosted on the wmo-im github."
      ]
    },
    {
      "cell_type": "code",
      "execution_count": null,
      "metadata": {
        "colab": {
          "base_uri": "https://localhost:8080/",
          "height": 1000,
          "referenced_widgets": [
            "7d7fb0e059624a99831ce94ff7282b82",
            "6671906eca434b388f29d587fad23505",
            "da69c94cdd3845568c3eec992139edbb",
            "e2863c15213744d581764d719d6593e7",
            "8744a92628944037940e86b13c679011",
            "5e545f07e90b452aa3f840dcccb9d25c",
            "53936c08471b4d63b2da4129870b53bf",
            "732e64c9ca964ab4938c4f7887471a5f",
            "78d85589e80340da9f493c566c782d0c",
            "43090474039b4ce68bb7a87d5d70a7de",
            "87d7e4a3d0e4474cabd158edee5ffbbe",
            "3df6f23a9fc84cb18e6381d35d5070e0",
            "ac738233b74e4b5682a637033e2bb25b"
          ]
        },
        "id": "Wr-kaAvQLCGK",
        "outputId": "fe81c425-e8b1-449b-a86b-068cd1e239db"
      },
      "outputs": [],
      "source": [
        "# Search BUFR Tables on  github\n",
        "pd.options.display.max_rows = 800\n",
        "table = [\"A\", \"C\", \"D\"]\n",
        "search = \"\"\n",
        "\n",
        "\n",
        "def get_bufr_table(table, search):\n",
        "    bufr_link = f\"https://raw.githubusercontent.com/wmo-im/BUFR4/master/txt/BUFR_Table{table}_en.txt\"\n",
        "    df_bufr = pd.read_csv(bufr_link)\n",
        "    if search:\n",
        "        df_bufr = df_bufr.query(search)\n",
        "    return df_bufr\n",
        "\n",
        "\n",
        "interact_manual(get_bufr_table, table=table, search=search)\n"
      ]
    },
    {
      "cell_type": "code",
      "execution_count": null,
      "metadata": {
        "colab": {
          "base_uri": "https://localhost:8080/",
          "height": 606
        },
        "id": "c3CLHJdmX4rh",
        "outputId": "d7162673-9719-4c9d-eabd-76c197bb8526"
      },
      "outputs": [],
      "source": [
        "# List the different templates in Table D related to ocean stuff\n",
        "pd.set_option(\"display.max_colwidth\", None)\n",
        "df_tableD = pd.read_csv(\n",
        "    f\"https://raw.githubusercontent.com/wmo-im/BUFR4/master/txt/BUFR_TableD_en.txt\"\n",
        ")\n",
        "df_tableD[df_tableD[\"CategoryOfSequences_en\"].str.contains(\"Ocean\")][\n",
        "    [\"Category\", \"CategoryOfSequences_en\", \"FXY1\", \"Title_en\"]\n",
        "].drop_duplicates()\n"
      ]
    },
    {
      "cell_type": "markdown",
      "metadata": {
        "id": "jTmIcxGXCd0a"
      },
      "source": [
        "# Test ecCodes locally \n",
        "\n",
        "Let's use by default the template **Sequence for the representation of data from moored buoys** (315008) "
      ]
    },
    {
      "cell_type": "code",
      "execution_count": null,
      "metadata": {
        "colab": {
          "base_uri": "https://localhost:8080/"
        },
        "id": "R5DRtQ2YmoOn",
        "outputId": "603f225c-9620-450d-da13-417e97123719"
      },
      "outputs": [],
      "source": [
        "# Just Test it locally and see if the installation worked\n",
        "ibufr = codes_bufr_new_from_samples('BUFR4')       # Creates a new valid message id from a BUFR sample\n",
        "codes_set(ibufr, 'edition', 4)                     # BUFR edition number\n",
        "codes_set(ibufr, 'masterTableNumber', 0)           # BUFR master table. Zero: standard WMO FM 94 BUFR tables\n",
        "codes_set(ibufr, 'masterTablesVersionNumber', 31)  # Version number of master table used\n",
        " \n",
        "ivalues = (315008)                                 # Template to be used\n",
        "codes_set(ibufr, 'unexpandedDescriptors', ivalues) # Key name to encode the sequence number is unexpandedDescriptors\n",
        "\n",
        "fout = open('reference.bufr', 'wb')                 # Open output file\n",
        "codes_write(ibufr, fout)                           # Write the message to output file\n",
        "codes_release(ibufr)                               # Release the BUFR message from memory\n",
        "fout.close()                                       # Close the file\n",
        "\n",
        "# Convert BUFR generated file to a plain ASCII readable format \n",
        "!bufr_dump -p reference.bufr > reference.plain\n",
        "!bufr_dump -j s reference.bufr > reference.json\n",
        "\n",
        "# Print the plain format\n",
        "with open('reference.plain') as f:\n",
        "    bufr_plain = f.read()\n",
        "    print(bufr_plain)\n",
        "\n",
        "# And a python code to encode such data template\n",
        "!bufr_dump -js -Epython reference.bufr > enconding.py "
      ]
    },
    {
      "cell_type": "code",
      "execution_count": null,
      "metadata": {
        "id": "laE86DW-bi7j"
      },
      "outputs": [],
      "source": [
        "bufr_plain = (\n",
        "    bufr_plain.replace(\"{\\n\", \"{\")\n",
        "    .replace(\"  \", \" \")\n",
        "    .replace(\"{\", \"(\")\n",
        "    .replace(\"}\", \")\")\n",
        "    .replace(\": MISSING\", ': \"MISSING\"')\n",
        ")\n"
      ]
    },
    {
      "cell_type": "code",
      "execution_count": null,
      "metadata": {
        "colab": {
          "base_uri": "https://localhost:8080/"
        },
        "id": "ykApkU6tDHx6",
        "outputId": "7b637da1-4d9b-433a-f75c-0cfb403cfbc1"
      },
      "outputs": [],
      "source": [
        "# Try to generate a json file use to map BUFR data to a dataset variables and attributes\n",
        "mapping_dict = {\n",
        "    key: value.replace(\"\\n\", \"\")\n",
        "    for key, value in re.findall(\"(.*)\\=(.*\\{.*\\n*.*\\}|.*)\", bufr_plain)\n",
        "    if \"->\" not in key\n",
        "}\n",
        "\n",
        "# Write Mapping to a json file\n",
        "with open(\"mapping.json\", \"w\") as f:\n",
        "    mapping_json = json.dumps(mapping_dict, indent=4)\n",
        "    f.write(mapping_json)\n",
        "\n",
        "print(mapping_json)\n",
        "\n",
        "# TODO the JSON s format as more information that could be usefull while building the mapping\n"
      ]
    },
    {
      "cell_type": "markdown",
      "metadata": {
        "id": "jgV3QCYOqq5B"
      },
      "source": [
        "# Try a with a CIOOS dataset on ERDDAP\n"
      ]
    },
    {
      "cell_type": "markdown",
      "metadata": {
        "id": "n2JjDogtvNVh"
      },
      "source": [
        "## Retrieve data through ERDDAP"
      ]
    },
    {
      "cell_type": "code",
      "execution_count": null,
      "metadata": {
        "id": "6UgT8gUImt4u"
      },
      "outputs": [],
      "source": [
        "# Single Surface Buoy Dataset Real-time Data\n",
        "erddap = \"https://catalogue.hakai.org/erddap\"\n",
        "dataset_id = \"HakaiKCBuoyResearch\"\n",
        "\n",
        "df = pd.read_csv(f\"{erddap}/tabledap/{dataset_id}.csv\", skiprows=[1])\n",
        "meta = pd.read_csv(f\"{erddap}/info/{dataset_id}/index.csv\")\n"
      ]
    },
    {
      "cell_type": "code",
      "execution_count": null,
      "metadata": {
        "id": "qB3Uivu1ucqq"
      },
      "outputs": [],
      "source": [
        "# QARTOD Could potentially run some QARTOD test here\n"
      ]
    },
    {
      "cell_type": "markdown",
      "metadata": {
        "id": "HXt8obyHvIbb"
      },
      "source": [
        "## Define BUFR Template\n",
        "\n",
        "### Workflow\n",
        "- Load mapping.json file\n",
        "- Try to make an educated guess on the mapping if the different terms to a metadata or data variable \n",
        "     - Use standard_name\n",
        "     - Confirm units are the same or add a scale_factor term\n",
        "     - Ideally all the terms retrieved should based on some metadata standards. >= CF 1.6, >=ACDD 1.3 or >=IOOS 1.2 Profile Standard\n",
        "- Save the resulting json mapping in a public repo\n",
        "\n",
        "\n",
        "Once the mapping is available, use mapping to convert to BUFR from ERDDAP. This could potentially be automated if all the terms are matched to some standard global and variable attributes.\n",
        "\n",
        "## What IOOS do\n",
        "The following link has a lot of information on how IOOS is ingesting ERDDAP data to GTS and the required ERDDAP dataset format and attributes:\n",
        "\n",
        "https://ioos.github.io/ioos-metadata/ioos-metadata-profile-v1-2.html#requirements-for-ioos-dataset-ndbcgts-ingest\n",
        "\n",
        "## Manual mapping"
      ]
    },
    {
      "cell_type": "code",
      "execution_count": null,
      "metadata": {
        "id": "TJOplRG4tat_"
      },
      "outputs": [],
      "source": [
        "# Define mapping to BUFR within a dictionary\n",
        "# Copy and paste the mapping.json file here\n",
        "bufr_mapping = {\n",
        "    \"delayedDescriptorReplicationFactor\": (1, 1, 1, 1),\n",
        "    \"shortDelayedDescriptorReplicationFactor\": (1, 1, 1, 1, 1, 1, 1),\n",
        "    \"edition\": \"4\",\n",
        "    \"masterTableNumber\": \"0\",\n",
        "    \"bufrHeaderCentre\": \"98\",\n",
        "    \"bufrHeaderSubCentre\": \"0\",\n",
        "    \"updateSequenceNumber\": \"0\",\n",
        "    \"dataCategory\": \"1\",\n",
        "    \"internationalDataSubCategory\": \"255\",\n",
        "    \"dataSubCategory\": \"110\",\n",
        "    \"masterTablesVersionNumber\": \"31\",\n",
        "    \"localTablesVersionNumber\": \"0\",\n",
        "    \"typicalYear\": \"2012\",\n",
        "    \"typicalMonth\": \"10\",\n",
        "    \"typicalDay\": \"31\",\n",
        "    \"typicalHour\": \"0\",\n",
        "    \"typicalMinute\": \"2\",\n",
        "    \"typicalSecond\": \"0\",\n",
        "    \"numberOfSubsets\": \"1\",\n",
        "    \"observedData\": \"1\",\n",
        "    \"compressedData\": \"0\",\n",
        "    \"unexpandedDescriptors\": \"315008\",\n",
        "    \"marineObservingPlatformIdentifier\": \"MISSING\",\n",
        "    \"stationOrSiteName\": \"MISSING\",\n",
        "    \"dataBuoyType\": \"MISSING\",\n",
        "    \"year\": \"MISSING\",\n",
        "    \"month\": \"MISSING\",\n",
        "    \"day\": \"MISSING\",\n",
        "    \"hour\": \"MISSING\",\n",
        "    \"minute\": \"MISSING\",\n",
        "    \"latitude\": \"MISSING\",\n",
        "    \"longitude\": \"MISSING\",\n",
        "    \"nonCoordinatePressure\": \"MISSING\",\n",
        "    \"pressureReducedToMeanSeaLevel\": \"MISSING\",\n",
        "    \"#1#heightOfSensorAboveWaterSurface\": \"MISSING\",\n",
        "    \"airTemperature\": \"MISSING\",\n",
        "    \"dewpointTemperature\": \"MISSING\",\n",
        "    \"relativeHumidity\": \"MISSING\",\n",
        "    \"#2#heightOfSensorAboveWaterSurface\": \"MISSING\",\n",
        "    \"#1#timeSignificance\": \"MISSING\",\n",
        "    \"#1#timePeriod\": \"MISSING\",\n",
        "    \"windDirection\": \"MISSING\",\n",
        "    \"windSpeed\": \"MISSING\",\n",
        "    \"#2#timeSignificance\": \"MISSING\",\n",
        "    \"#2#timePeriod\": \"MISSING\",\n",
        "    \"maximumWindGustSpeed\": \"MISSING\",\n",
        "    \"#3#timePeriod\": \"MISSING\",\n",
        "    \"#3#heightOfSensorAboveWaterSurface\": \"MISSING\",\n",
        "    \"#1#temperatureObservationPrecision\": \"MISSING\",\n",
        "    \"#1#depthBelowWaterSurface\": \"MISSING\",\n",
        "    \"seaSurfaceTemperature\": \"MISSING\",\n",
        "    \"horizontalVisibility\": \"MISSING\",\n",
        "    \"#4#timePeriod\": \"MISSING\",\n",
        "    \"totalPrecipitationOrTotalWaterEquivalent\": \"MISSING\",\n",
        "    \"#5#timePeriod\": \"MISSING\",\n",
        "    \"longWaveRadiationIntegratedOverPeriodSpecified\": \"MISSING\",\n",
        "    \"shortWaveRadiationIntegratedOverPeriodSpecified\": \"MISSING\",\n",
        "    \"netRadiationIntegratedOverPeriodSpecified\": \"MISSING\",\n",
        "    \"globalSolarRadiationIntegratedOverPeriodSpecified\": \"MISSING\",\n",
        "    \"diffuseSolarRadiationIntegratedOverPeriodSpecified\": \"MISSING\",\n",
        "    \"directSolarRadiationIntegratedOverPeriodSpecified\": \"MISSING\",\n",
        "    \"#1#durationOfWaveRecord\": \"MISSING\",\n",
        "    \"significantWaveHeight\": \"MISSING\",\n",
        "    \"maximumWaveHeight\": \"MISSING\",\n",
        "    \"averageWavePeriod\": \"MISSING\",\n",
        "    \"spectralPeakWavePeriod\": \"MISSING\",\n",
        "    \"directionFromWhichDominantWavesAreComing\": \"MISSING\",\n",
        "    \"directionalSpreadOfDominantWave\": \"MISSING\",\n",
        "    \"#2#durationOfWaveRecord\": \"MISSING\",\n",
        "    \"maximumNonDirectionalSpectralWaveDensity\": \"MISSING\",\n",
        "    \"wavebandCentralFrequency\": \"MISSING\",\n",
        "    \"spectralWaveDensity\": \"MISSING\",\n",
        "    \"meanDirectionFromWhichWavesAreComing\": \"MISSING\",\n",
        "    \"principalDirectionFromWhichWavesAreComing\": \"MISSING\",\n",
        "    \"firstNormalizedPolarCoordinateFromFourierCoefficients\": \"MISSING\",\n",
        "    \"secondNormalizedPolarCoordinateFromFourierCoefficients\": \"MISSING\",\n",
        "    \"#2#temperatureObservationPrecision\": \"MISSING\",\n",
        "    \"#1#indicatorForDigitization\": \"MISSING\",\n",
        "    \"#2#depthBelowWaterSurface\": \"MISSING\",\n",
        "    \"#1#oceanographicWaterTemperature\": \"MISSING\",\n",
        "    \"#3#temperatureObservationPrecision\": \"MISSING\",\n",
        "    \"#2#indicatorForDigitization\": \"MISSING\",\n",
        "    \"methodOfSalinityOrDepthMeasurement\": \"MISSING\",\n",
        "    \"#3#depthBelowWaterSurface\": \"MISSING\",\n",
        "    \"#2#oceanographicWaterTemperature\": \"MISSING\",\n",
        "    \"salinity\": \"MISSING\",\n",
        "    \"durationAndTimeOfCurrentMeasurement\": \"MISSING\",\n",
        "    \"#4#depthBelowWaterSurface\": \"MISSING\",\n",
        "    \"currentDirection\": \"MISSING\",\n",
        "    \"speedOfCurrent\": \"MISSING\",\n",
        "}\n"
      ]
    },
    {
      "cell_type": "code",
      "execution_count": null,
      "metadata": {
        "id": "GLBcpYm2MQcx"
      },
      "outputs": [],
      "source": [
        "#TODO Make this work !\n",
        "def encode_bufr(mapping, df):\n",
        "    \"\"\"\n",
        "    Encode bufr file from a mapping dictionary and a pandas dataframe\n",
        "    \"\"\"\n",
        "\n",
        "    for id, row in df.iterrows():\n",
        "        ibufr = codes_bufr_new_from_samples(\"BUFR4\")\n",
        "        for key, value in mapping.items():\n",
        "            print(f\"{key}: {value}\")\n",
        "            if type(value) in (list,tuple):\n",
        "                codes_set_array(ibufr, key, value)\n",
        "            elif value in df:\n",
        "                codes_set(ibufr, key, row[value])\n",
        "            else:\n",
        "                codes_set(ibufr, key, value)\n",
        "\n",
        "        # Encode the keys back in the data section\n",
        "        codes_set(ibufr, \"pack\", 1)\n",
        "\n",
        "        outfile = open(\"outfile.bufr\", \"wb\")\n",
        "        codes_write(ibufr, outfile)\n",
        "        codes_release(ibufr)\n"
      ]
    },
    {
      "cell_type": "code",
      "execution_count": null,
      "metadata": {
        "colab": {
          "base_uri": "https://localhost:8080/",
          "height": 458
        },
        "id": "I5CsbZJ0ddoY",
        "outputId": "90fb4efc-e478-43df-ba7a-e45f419ea4a1"
      },
      "outputs": [],
      "source": [
        "# Let's give a try\n",
        "encode_bufr(bufr_mapping, df)\n"
      ]
    }
  ],
  "metadata": {
    "colab": {
      "collapsed_sections": [],
      "name": "test-BUFR-format.ipynb",
      "provenance": []
    },
    "interpreter": {
      "hash": "31f2aee4e71d21fbe5cf8b01ff0e069b9275f58929596ceb00d14d90e3e16cd6"
    },
    "kernelspec": {
      "display_name": "Python 3.8.10 64-bit",
      "name": "python3"
    },
    "language_info": {
      "codemirror_mode": {
        "name": "ipython",
        "version": 3
      },
      "file_extension": ".py",
      "mimetype": "text/x-python",
      "name": "python",
      "nbconvert_exporter": "python",
      "pygments_lexer": "ipython3",
      "version": "3.9.5"
    },
    "widgets": {
      "application/vnd.jupyter.widget-state+json": {
        "3df6f23a9fc84cb18e6381d35d5070e0": {
          "model_module": "@jupyter-widgets/base",
          "model_module_version": "1.2.0",
          "model_name": "LayoutModel",
          "state": {
            "_model_module": "@jupyter-widgets/base",
            "_model_module_version": "1.2.0",
            "_model_name": "LayoutModel",
            "_view_count": null,
            "_view_module": "@jupyter-widgets/base",
            "_view_module_version": "1.2.0",
            "_view_name": "LayoutView",
            "align_content": null,
            "align_items": null,
            "align_self": null,
            "border": null,
            "bottom": null,
            "display": null,
            "flex": null,
            "flex_flow": null,
            "grid_area": null,
            "grid_auto_columns": null,
            "grid_auto_flow": null,
            "grid_auto_rows": null,
            "grid_column": null,
            "grid_gap": null,
            "grid_row": null,
            "grid_template_areas": null,
            "grid_template_columns": null,
            "grid_template_rows": null,
            "height": null,
            "justify_content": null,
            "justify_items": null,
            "left": null,
            "margin": null,
            "max_height": null,
            "max_width": null,
            "min_height": null,
            "min_width": null,
            "object_fit": null,
            "object_position": null,
            "order": null,
            "overflow": null,
            "overflow_x": null,
            "overflow_y": null,
            "padding": null,
            "right": null,
            "top": null,
            "visibility": null,
            "width": null
          }
        },
        "43090474039b4ce68bb7a87d5d70a7de": {
          "model_module": "@jupyter-widgets/base",
          "model_module_version": "1.2.0",
          "model_name": "LayoutModel",
          "state": {
            "_model_module": "@jupyter-widgets/base",
            "_model_module_version": "1.2.0",
            "_model_name": "LayoutModel",
            "_view_count": null,
            "_view_module": "@jupyter-widgets/base",
            "_view_module_version": "1.2.0",
            "_view_name": "LayoutView",
            "align_content": null,
            "align_items": null,
            "align_self": null,
            "border": null,
            "bottom": null,
            "display": null,
            "flex": null,
            "flex_flow": null,
            "grid_area": null,
            "grid_auto_columns": null,
            "grid_auto_flow": null,
            "grid_auto_rows": null,
            "grid_column": null,
            "grid_gap": null,
            "grid_row": null,
            "grid_template_areas": null,
            "grid_template_columns": null,
            "grid_template_rows": null,
            "height": null,
            "justify_content": null,
            "justify_items": null,
            "left": null,
            "margin": null,
            "max_height": null,
            "max_width": null,
            "min_height": null,
            "min_width": null,
            "object_fit": null,
            "object_position": null,
            "order": null,
            "overflow": null,
            "overflow_x": null,
            "overflow_y": null,
            "padding": null,
            "right": null,
            "top": null,
            "visibility": null,
            "width": null
          }
        },
        "53936c08471b4d63b2da4129870b53bf": {
          "model_module": "@jupyter-widgets/controls",
          "model_module_version": "1.5.0",
          "model_name": "DescriptionStyleModel",
          "state": {
            "_model_module": "@jupyter-widgets/controls",
            "_model_module_version": "1.5.0",
            "_model_name": "DescriptionStyleModel",
            "_view_count": null,
            "_view_module": "@jupyter-widgets/base",
            "_view_module_version": "1.2.0",
            "_view_name": "StyleView",
            "description_width": ""
          }
        },
        "5e545f07e90b452aa3f840dcccb9d25c": {
          "model_module": "@jupyter-widgets/output",
          "model_module_version": "1.0.0",
          "model_name": "OutputModel",
          "state": {
            "_dom_classes": [],
            "_model_module": "@jupyter-widgets/output",
            "_model_module_version": "1.0.0",
            "_model_name": "OutputModel",
            "_view_count": null,
            "_view_module": "@jupyter-widgets/output",
            "_view_module_version": "1.0.0",
            "_view_name": "OutputView",
            "layout": "IPY_MODEL_ac738233b74e4b5682a637033e2bb25b",
            "msg_id": "",
            "outputs": [
              {
                "data": {
                  "text/html": "<div>\n<style scoped>\n    .dataframe tbody tr th:only-of-type {\n        vertical-align: middle;\n    }\n\n    .dataframe tbody tr th {\n        vertical-align: top;\n    }\n\n    .dataframe thead th {\n        text-align: right;\n    }\n</style>\n<table border=\"1\" class=\"dataframe\">\n  <thead>\n    <tr style=\"text-align: right;\">\n      <th></th>\n      <th>Category</th>\n      <th>CategoryOfSequences_en</th>\n      <th>FXY1</th>\n      <th>Title_en</th>\n      <th>SubTitle_en</th>\n      <th>FXY2</th>\n      <th>ElementName_en</th>\n      <th>ElementDescription_en</th>\n      <th>Note_en</th>\n      <th>Status</th>\n    </tr>\n  </thead>\n  <tbody>\n    <tr>\n      <th>2704</th>\n      <td>7</td>\n      <td>Surface report sequences (land)</td>\n      <td>307092</td>\n      <td>(BUFR template for surface observations from n-minute period)</td>\n      <td>NaN</td>\n      <td>301150</td>\n      <td>WIGOS identifier</td>\n      <td>NaN</td>\n      <td>NaN</td>\n      <td>Operational</td>\n    </tr>\n    <tr>\n      <th>2705</th>\n      <td>7</td>\n      <td>Surface report sequences (land)</td>\n      <td>307092</td>\n      <td>(BUFR template for surface observations from n-minute period)</td>\n      <td>NaN</td>\n      <td>301001</td>\n      <td>WMO block and station numbers</td>\n      <td>NaN</td>\n      <td>NaN</td>\n      <td>Operational</td>\n    </tr>\n    <tr>\n      <th>2706</th>\n      <td>7</td>\n      <td>Surface report sequences (land)</td>\n      <td>307092</td>\n      <td>(BUFR template for surface observations from n-minute period)</td>\n      <td>NaN</td>\n      <td>208040</td>\n      <td>Change width of CCITT IA5 field</td>\n      <td>NaN</td>\n      <td>NaN</td>\n      <td>Operational</td>\n    </tr>\n    <tr>\n      <th>2707</th>\n      <td>7</td>\n      <td>Surface report sequences (land)</td>\n      <td>307092</td>\n      <td>(BUFR template for surface observations from n-minute period)</td>\n      <td>NaN</td>\n      <td>1019</td>\n      <td>Long station or site name</td>\n      <td>40 characters</td>\n      <td>NaN</td>\n      <td>Operational</td>\n    </tr>\n    <tr>\n      <th>2708</th>\n      <td>7</td>\n      <td>Surface report sequences (land)</td>\n      <td>307092</td>\n      <td>(BUFR template for surface observations from n-minute period)</td>\n      <td>NaN</td>\n      <td>208000</td>\n      <td>Change width of CCITT IA5 field</td>\n      <td>NaN</td>\n      <td>NaN</td>\n      <td>Operational</td>\n    </tr>\n    <tr>\n      <th>2709</th>\n      <td>7</td>\n      <td>Surface report sequences (land)</td>\n      <td>307092</td>\n      <td>(BUFR template for surface observations from n-minute period)</td>\n      <td>NaN</td>\n      <td>301011</td>\n      <td>Year, month, day</td>\n      <td>The time identification refers to the end of the n-minute period.</td>\n      <td>NaN</td>\n      <td>Operational</td>\n    </tr>\n    <tr>\n      <th>2710</th>\n      <td>7</td>\n      <td>Surface report sequences (land)</td>\n      <td>307092</td>\n      <td>(BUFR template for surface observations from n-minute period)</td>\n      <td>NaN</td>\n      <td>301012</td>\n      <td>Hour, minute</td>\n      <td>NaN</td>\n      <td>NaN</td>\n      <td>Operational</td>\n    </tr>\n    <tr>\n      <th>2711</th>\n      <td>7</td>\n      <td>Surface report sequences (land)</td>\n      <td>307092</td>\n      <td>(BUFR template for surface observations from n-minute period)</td>\n      <td>NaN</td>\n      <td>301021</td>\n      <td>Latitude/longitude (high accuracy)</td>\n      <td>NaN</td>\n      <td>NaN</td>\n      <td>Operational</td>\n    </tr>\n    <tr>\n      <th>2712</th>\n      <td>7</td>\n      <td>Surface report sequences (land)</td>\n      <td>307092</td>\n      <td>(BUFR template for surface observations from n-minute period)</td>\n      <td>NaN</td>\n      <td>7030</td>\n      <td>Height of station ground above mean sea level</td>\n      <td>NaN</td>\n      <td>NaN</td>\n      <td>Operational</td>\n    </tr>\n    <tr>\n      <th>2713</th>\n      <td>7</td>\n      <td>Surface report sequences (land)</td>\n      <td>307092</td>\n      <td>(BUFR template for surface observations from n-minute period)</td>\n      <td>NaN</td>\n      <td>1023</td>\n      <td>Observation sequence number</td>\n      <td>NaN</td>\n      <td>NaN</td>\n      <td>Operational</td>\n    </tr>\n    <tr>\n      <th>2714</th>\n      <td>7</td>\n      <td>Surface report sequences (land)</td>\n      <td>307092</td>\n      <td>(BUFR template for surface observations from n-minute period)</td>\n      <td>NaN</td>\n      <td>108000</td>\n      <td>Delayed replication of 8 descriptors</td>\n      <td>NaN</td>\n      <td>NaN</td>\n      <td>Operational</td>\n    </tr>\n    <tr>\n      <th>2715</th>\n      <td>7</td>\n      <td>Surface report sequences (land)</td>\n      <td>307092</td>\n      <td>(BUFR template for surface observations from n-minute period)</td>\n      <td>NaN</td>\n      <td>31000</td>\n      <td>Short delayed descriptor replication factor</td>\n      <td>NaN</td>\n      <td>NaN</td>\n      <td>Operational</td>\n    </tr>\n    <tr>\n      <th>2716</th>\n      <td>7</td>\n      <td>Surface report sequences (land)</td>\n      <td>307092</td>\n      <td>(BUFR template for surface observations from n-minute period)</td>\n      <td>NaN</td>\n      <td>7031</td>\n      <td>Height of barometer above mean sea level</td>\n      <td>NaN</td>\n      <td>NaN</td>\n      <td>Operational</td>\n    </tr>\n    <tr>\n      <th>2717</th>\n      <td>7</td>\n      <td>Surface report sequences (land)</td>\n      <td>307092</td>\n      <td>(BUFR template for surface observations from n-minute period)</td>\n      <td>NaN</td>\n      <td>204018</td>\n      <td>Add associated field</td>\n      <td>NaN</td>\n      <td>NaN</td>\n      <td>Operational</td>\n    </tr>\n    <tr>\n      <th>2718</th>\n      <td>7</td>\n      <td>Surface report sequences (land)</td>\n      <td>307092</td>\n      <td>(BUFR template for surface observations from n-minute period)</td>\n      <td>NaN</td>\n      <td>31021</td>\n      <td>Associated field significance</td>\n      <td>NaN</td>\n      <td>NaN</td>\n      <td>Operational</td>\n    </tr>\n    <tr>\n      <th>2719</th>\n      <td>7</td>\n      <td>Surface report sequences (land)</td>\n      <td>307092</td>\n      <td>(BUFR template for surface observations from n-minute period)</td>\n      <td>NaN</td>\n      <td>10004</td>\n      <td>Pressure</td>\n      <td>Measured value of the air pressure at the sensor location and sensor height</td>\n      <td>NaN</td>\n      <td>Operational</td>\n    </tr>\n    <tr>\n      <th>2720</th>\n      <td>7</td>\n      <td>Surface report sequences (land)</td>\n      <td>307092</td>\n      <td>(BUFR template for surface observations from n-minute period)</td>\n      <td>NaN</td>\n      <td>10051</td>\n      <td>Pressure reduced to mean sea level</td>\n      <td>NaN</td>\n      <td>NaN</td>\n      <td>Operational</td>\n    </tr>\n    <tr>\n      <th>2721</th>\n      <td>7</td>\n      <td>Surface report sequences (land)</td>\n      <td>307092</td>\n      <td>(BUFR template for surface observations from n-minute period)</td>\n      <td>NaN</td>\n      <td>7004</td>\n      <td>Pressure</td>\n      <td>Standard level</td>\n      <td>NaN</td>\n      <td>Operational</td>\n    </tr>\n    <tr>\n      <th>2722</th>\n      <td>7</td>\n      <td>Surface report sequences (land)</td>\n      <td>307092</td>\n      <td>(BUFR template for surface observations from n-minute period)</td>\n      <td>NaN</td>\n      <td>10009</td>\n      <td>Geopotential height</td>\n      <td>Standard level</td>\n      <td>NaN</td>\n      <td>Operational</td>\n    </tr>\n    <tr>\n      <th>2723</th>\n      <td>7</td>\n      <td>Surface report sequences (land)</td>\n      <td>307092</td>\n      <td>(BUFR template for surface observations from n-minute period)</td>\n      <td>NaN</td>\n      <td>204000</td>\n      <td>Add associated field</td>\n      <td>Cancel</td>\n      <td>NaN</td>\n      <td>Operational</td>\n    </tr>\n    <tr>\n      <th>2724</th>\n      <td>7</td>\n      <td>Surface report sequences (land)</td>\n      <td>307092</td>\n      <td>(BUFR template for surface observations from n-minute period)</td>\n      <td>NaN</td>\n      <td>115000</td>\n      <td>Delayed replication of 15 descriptors</td>\n      <td>NaN</td>\n      <td>NaN</td>\n      <td>Operational</td>\n    </tr>\n    <tr>\n      <th>2725</th>\n      <td>7</td>\n      <td>Surface report sequences (land)</td>\n      <td>307092</td>\n      <td>(BUFR template for surface observations from n-minute period)</td>\n      <td>NaN</td>\n      <td>31001</td>\n      <td>Delayed descriptor replication factor</td>\n      <td>NaN</td>\n      <td>NaN</td>\n      <td>Operational</td>\n    </tr>\n    <tr>\n      <th>2726</th>\n      <td>7</td>\n      <td>Surface report sequences (land)</td>\n      <td>307092</td>\n      <td>(BUFR template for surface observations from n-minute period)</td>\n      <td>NaN</td>\n      <td>7032</td>\n      <td>Height of sensor above local ground (or deck of marine platform)</td>\n      <td>NaN</td>\n      <td>NaN</td>\n      <td>Operational</td>\n    </tr>\n    <tr>\n      <th>2727</th>\n      <td>7</td>\n      <td>Surface report sequences (land)</td>\n      <td>307092</td>\n      <td>(BUFR template for surface observations from n-minute period)</td>\n      <td>NaN</td>\n      <td>8010</td>\n      <td>Surface qualifier (temperature data)</td>\n      <td>NaN</td>\n      <td>NaN</td>\n      <td>Operational</td>\n    </tr>\n    <tr>\n      <th>2728</th>\n      <td>7</td>\n      <td>Surface report sequences (land)</td>\n      <td>307092</td>\n      <td>(BUFR template for surface observations from n-minute period)</td>\n      <td>NaN</td>\n      <td>204018</td>\n      <td>Add associated field</td>\n      <td>NaN</td>\n      <td>NaN</td>\n      <td>Operational</td>\n    </tr>\n    <tr>\n      <th>2729</th>\n      <td>7</td>\n      <td>Surface report sequences (land)</td>\n      <td>307092</td>\n      <td>(BUFR template for surface observations from n-minute period)</td>\n      <td>NaN</td>\n      <td>31021</td>\n      <td>Associated field significance</td>\n      <td>NaN</td>\n      <td>NaN</td>\n      <td>Operational</td>\n    </tr>\n    <tr>\n      <th>2730</th>\n      <td>7</td>\n      <td>Surface report sequences (land)</td>\n      <td>307092</td>\n      <td>(BUFR template for surface observations from n-minute period)</td>\n      <td>NaN</td>\n      <td>12101</td>\n      <td>Temperature/air-temperature</td>\n      <td>Scale: 2</td>\n      <td>NaN</td>\n      <td>Operational</td>\n    </tr>\n    <tr>\n      <th>2731</th>\n      <td>7</td>\n      <td>Surface report sequences (land)</td>\n      <td>307092</td>\n      <td>(BUFR template for surface observations from n-minute period)</td>\n      <td>NaN</td>\n      <td>12103</td>\n      <td>Dewpoint temperature</td>\n      <td>Scale: 2</td>\n      <td>NaN</td>\n      <td>Operational</td>\n    </tr>\n    <tr>\n      <th>2732</th>\n      <td>7</td>\n      <td>Surface report sequences (land)</td>\n      <td>307092</td>\n      <td>(BUFR template for surface observations from n-minute period)</td>\n      <td>NaN</td>\n      <td>202129</td>\n      <td>Change scale</td>\n      <td>NaN</td>\n      <td>NaN</td>\n      <td>Operational</td>\n    </tr>\n    <tr>\n      <th>2733</th>\n      <td>7</td>\n      <td>Surface report sequences (land)</td>\n      <td>307092</td>\n      <td>(BUFR template for surface observations from n-minute period)</td>\n      <td>NaN</td>\n      <td>201132</td>\n      <td>Change data width</td>\n      <td>NaN</td>\n      <td>NaN</td>\n      <td>Operational</td>\n    </tr>\n    <tr>\n      <th>2734</th>\n      <td>7</td>\n      <td>Surface report sequences (land)</td>\n      <td>307092</td>\n      <td>(BUFR template for surface observations from n-minute period)</td>\n      <td>NaN</td>\n      <td>13003</td>\n      <td>Relative humidity</td>\n      <td>Mandatory to report (presuming a humidity sensor is installed), data width 11 bits</td>\n      <td>NaN</td>\n      <td>Operational</td>\n    </tr>\n    <tr>\n      <th>2735</th>\n      <td>7</td>\n      <td>Surface report sequences (land)</td>\n      <td>307092</td>\n      <td>(BUFR template for surface observations from n-minute period)</td>\n      <td>NaN</td>\n      <td>201000</td>\n      <td>Change data width</td>\n      <td>Cancel</td>\n      <td>NaN</td>\n      <td>Operational</td>\n    </tr>\n    <tr>\n      <th>2736</th>\n      <td>7</td>\n      <td>Surface report sequences (land)</td>\n      <td>307092</td>\n      <td>(BUFR template for surface observations from n-minute period)</td>\n      <td>NaN</td>\n      <td>202000</td>\n      <td>Change scale</td>\n      <td>Cancel</td>\n      <td>NaN</td>\n      <td>Operational</td>\n    </tr>\n    <tr>\n      <th>2737</th>\n      <td>7</td>\n      <td>Surface report sequences (land)</td>\n      <td>307092</td>\n      <td>(BUFR template for surface observations from n-minute period)</td>\n      <td>NaN</td>\n      <td>13009</td>\n      <td>Relative humidity</td>\n      <td>Original measured value</td>\n      <td>NaN</td>\n      <td>Operational</td>\n    </tr>\n    <tr>\n      <th>2738</th>\n      <td>7</td>\n      <td>Surface report sequences (land)</td>\n      <td>307092</td>\n      <td>(BUFR template for surface observations from n-minute period)</td>\n      <td>NaN</td>\n      <td>204000</td>\n      <td>Add associated field</td>\n      <td>Cancel</td>\n      <td>NaN</td>\n      <td>Operational</td>\n    </tr>\n    <tr>\n      <th>2739</th>\n      <td>7</td>\n      <td>Surface report sequences (land)</td>\n      <td>307092</td>\n      <td>(BUFR template for surface observations from n-minute period)</td>\n      <td>NaN</td>\n      <td>7032</td>\n      <td>Height of sensor above local ground (or deck of marine platform)</td>\n      <td>Set to missing (cancel)</td>\n      <td>NaN</td>\n      <td>Operational</td>\n    </tr>\n    <tr>\n      <th>2740</th>\n      <td>7</td>\n      <td>Surface report sequences (land)</td>\n      <td>307092</td>\n      <td>(BUFR template for surface observations from n-minute period)</td>\n      <td>NaN</td>\n      <td>8010</td>\n      <td>Surface qualifier (temperature data)</td>\n      <td>Set to missing (cancel)</td>\n      <td>NaN</td>\n      <td>Operational</td>\n    </tr>\n    <tr>\n      <th>2741</th>\n      <td>7</td>\n      <td>Surface report sequences (land)</td>\n      <td>307092</td>\n      <td>(BUFR template for surface observations from n-minute period)</td>\n      <td>NaN</td>\n      <td>107000</td>\n      <td>Delayed replication of 7 descriptors</td>\n      <td>NaN</td>\n      <td>NaN</td>\n      <td>Operational</td>\n    </tr>\n    <tr>\n      <th>2742</th>\n      <td>7</td>\n      <td>Surface report sequences (land)</td>\n      <td>307092</td>\n      <td>(BUFR template for surface observations from n-minute period)</td>\n      <td>NaN</td>\n      <td>31001</td>\n      <td>Delayed descriptor replication factor</td>\n      <td>NaN</td>\n      <td>NaN</td>\n      <td>Operational</td>\n    </tr>\n    <tr>\n      <th>2743</th>\n      <td>7</td>\n      <td>Surface report sequences (land)</td>\n      <td>307092</td>\n      <td>(BUFR template for surface observations from n-minute period)</td>\n      <td>NaN</td>\n      <td>7061</td>\n      <td>Depth below land surface</td>\n      <td>NaN</td>\n      <td>NaN</td>\n      <td>Operational</td>\n    </tr>\n    <tr>\n      <th>2744</th>\n      <td>7</td>\n      <td>Surface report sequences (land)</td>\n      <td>307092</td>\n      <td>(BUFR template for surface observations from n-minute period)</td>\n      <td>NaN</td>\n      <td>204018</td>\n      <td>Add associated field</td>\n      <td>NaN</td>\n      <td>NaN</td>\n      <td>Operational</td>\n    </tr>\n    <tr>\n      <th>2745</th>\n      <td>7</td>\n      <td>Surface report sequences (land)</td>\n      <td>307092</td>\n      <td>(BUFR template for surface observations from n-minute period)</td>\n      <td>NaN</td>\n      <td>31021</td>\n      <td>Associated field significance</td>\n      <td>NaN</td>\n      <td>NaN</td>\n      <td>Operational</td>\n    </tr>\n    <tr>\n      <th>2746</th>\n      <td>7</td>\n      <td>Surface report sequences (land)</td>\n      <td>307092</td>\n      <td>(BUFR template for surface observations from n-minute period)</td>\n      <td>NaN</td>\n      <td>12130</td>\n      <td>Soil temperature</td>\n      <td>NaN</td>\n      <td>NaN</td>\n      <td>Operational</td>\n    </tr>\n    <tr>\n      <th>2747</th>\n      <td>7</td>\n      <td>Surface report sequences (land)</td>\n      <td>307092</td>\n      <td>(BUFR template for surface observations from n-minute period)</td>\n      <td>NaN</td>\n      <td>13111</td>\n      <td>Soil moisture</td>\n      <td>NaN</td>\n      <td>NaN</td>\n      <td>Operational</td>\n    </tr>\n    <tr>\n      <th>2748</th>\n      <td>7</td>\n      <td>Surface report sequences (land)</td>\n      <td>307092</td>\n      <td>(BUFR template for surface observations from n-minute period)</td>\n      <td>NaN</td>\n      <td>204000</td>\n      <td>Add associated field</td>\n      <td>Cancel</td>\n      <td>NaN</td>\n      <td>Operational</td>\n    </tr>\n    <tr>\n      <th>2749</th>\n      <td>7</td>\n      <td>Surface report sequences (land)</td>\n      <td>307092</td>\n      <td>(BUFR template for surface observations from n-minute period)</td>\n      <td>NaN</td>\n      <td>7061</td>\n      <td>Depth below land surface</td>\n      <td>Set to missing (cancel)</td>\n      <td>NaN</td>\n      <td>Operational</td>\n    </tr>\n    <tr>\n      <th>2750</th>\n      <td>7</td>\n      <td>Surface report sequences (land)</td>\n      <td>307092</td>\n      <td>(BUFR template for surface observations from n-minute period)</td>\n      <td>NaN</td>\n      <td>105000</td>\n      <td>Delayed replication of 5 descriptors</td>\n      <td>NaN</td>\n      <td>NaN</td>\n      <td>Operational</td>\n    </tr>\n    <tr>\n      <th>2751</th>\n      <td>7</td>\n      <td>Surface report sequences (land)</td>\n      <td>307092</td>\n      <td>(BUFR template for surface observations from n-minute period)</td>\n      <td>NaN</td>\n      <td>31000</td>\n      <td>Short delayed descriptor replication factor</td>\n      <td>NaN</td>\n      <td>NaN</td>\n      <td>Operational</td>\n    </tr>\n    <tr>\n      <th>2752</th>\n      <td>7</td>\n      <td>Surface report sequences (land)</td>\n      <td>307092</td>\n      <td>(BUFR template for surface observations from n-minute period)</td>\n      <td>NaN</td>\n      <td>33041</td>\n      <td>Attribute of following value</td>\n      <td>NaN</td>\n      <td>NaN</td>\n      <td>Operational</td>\n    </tr>\n    <tr>\n      <th>2753</th>\n      <td>7</td>\n      <td>Surface report sequences (land)</td>\n      <td>307092</td>\n      <td>(BUFR template for surface observations from n-minute period)</td>\n      <td>NaN</td>\n      <td>204018</td>\n      <td>Add associated field</td>\n      <td>NaN</td>\n      <td>NaN</td>\n      <td>Operational</td>\n    </tr>\n    <tr>\n      <th>2754</th>\n      <td>7</td>\n      <td>Surface report sequences (land)</td>\n      <td>307092</td>\n      <td>(BUFR template for surface observations from n-minute period)</td>\n      <td>NaN</td>\n      <td>31021</td>\n      <td>Associated field significance</td>\n      <td>NaN</td>\n      <td>NaN</td>\n      <td>Operational</td>\n    </tr>\n    <tr>\n      <th>2755</th>\n      <td>7</td>\n      <td>Surface report sequences (land)</td>\n      <td>307092</td>\n      <td>(BUFR template for surface observations from n-minute period)</td>\n      <td>NaN</td>\n      <td>20001</td>\n      <td>Horizontal visibility</td>\n      <td>NaN</td>\n      <td>NaN</td>\n      <td>Operational</td>\n    </tr>\n    <tr>\n      <th>2756</th>\n      <td>7</td>\n      <td>Surface report sequences (land)</td>\n      <td>307092</td>\n      <td>(BUFR template for surface observations from n-minute period)</td>\n      <td>NaN</td>\n      <td>204000</td>\n      <td>Add associated field</td>\n      <td>Cancel</td>\n      <td>NaN</td>\n      <td>Operational</td>\n    </tr>\n    <tr>\n      <th>2757</th>\n      <td>7</td>\n      <td>Surface report sequences (land)</td>\n      <td>307092</td>\n      <td>(BUFR template for surface observations from n-minute period)</td>\n      <td>NaN</td>\n      <td>113000</td>\n      <td>Delayed replication of 13 descriptors</td>\n      <td>NaN</td>\n      <td>NaN</td>\n      <td>Operational</td>\n    </tr>\n    <tr>\n      <th>2758</th>\n      <td>7</td>\n      <td>Surface report sequences (land)</td>\n      <td>307092</td>\n      <td>(BUFR template for surface observations from n-minute period)</td>\n      <td>NaN</td>\n      <td>31000</td>\n      <td>Short delayed descriptor replication factor</td>\n      <td>NaN</td>\n      <td>NaN</td>\n      <td>Operational</td>\n    </tr>\n    <tr>\n      <th>2759</th>\n      <td>7</td>\n      <td>Surface report sequences (land)</td>\n      <td>307092</td>\n      <td>(BUFR template for surface observations from n-minute period)</td>\n      <td>NaN</td>\n      <td>204018</td>\n      <td>Add associated field</td>\n      <td>NaN</td>\n      <td>NaN</td>\n      <td>Operational</td>\n    </tr>\n    <tr>\n      <th>2760</th>\n      <td>7</td>\n      <td>Surface report sequences (land)</td>\n      <td>307092</td>\n      <td>(BUFR template for surface observations from n-minute period)</td>\n      <td>NaN</td>\n      <td>31021</td>\n      <td>Associated field significance</td>\n      <td>NaN</td>\n      <td>NaN</td>\n      <td>Operational</td>\n    </tr>\n    <tr>\n      <th>2761</th>\n      <td>7</td>\n      <td>Surface report sequences (land)</td>\n      <td>307092</td>\n      <td>(BUFR template for surface observations from n-minute period)</td>\n      <td>NaN</td>\n      <td>20010</td>\n      <td>Cloud cover (total)</td>\n      <td>NaN</td>\n      <td>NaN</td>\n      <td>Operational</td>\n    </tr>\n    <tr>\n      <th>2762</th>\n      <td>7</td>\n      <td>Surface report sequences (land)</td>\n      <td>307092</td>\n      <td>(BUFR template for surface observations from n-minute period)</td>\n      <td>NaN</td>\n      <td>204000</td>\n      <td>Add associated field</td>\n      <td>Cancel</td>\n      <td>NaN</td>\n      <td>Operational</td>\n    </tr>\n    <tr>\n      <th>2763</th>\n      <td>7</td>\n      <td>Surface report sequences (land)</td>\n      <td>307092</td>\n      <td>(BUFR template for surface observations from n-minute period)</td>\n      <td>NaN</td>\n      <td>107000</td>\n      <td>Delayed replication of 7 descriptors</td>\n      <td>NaN</td>\n      <td>NaN</td>\n      <td>Operational</td>\n    </tr>\n    <tr>\n      <th>2764</th>\n      <td>7</td>\n      <td>Surface report sequences (land)</td>\n      <td>307092</td>\n      <td>(BUFR template for surface observations from n-minute period)</td>\n      <td>NaN</td>\n      <td>31001</td>\n      <td>Delayed descriptor replication factor</td>\n      <td>NaN</td>\n      <td>NaN</td>\n      <td>Operational</td>\n    </tr>\n    <tr>\n      <th>2765</th>\n      <td>7</td>\n      <td>Surface report sequences (land)</td>\n      <td>307092</td>\n      <td>(BUFR template for surface observations from n-minute period)</td>\n      <td>NaN</td>\n      <td>8002</td>\n      <td>Vertical significance (surface observations)</td>\n      <td>NaN</td>\n      <td>NaN</td>\n      <td>Operational</td>\n    </tr>\n    <tr>\n      <th>2766</th>\n      <td>7</td>\n      <td>Surface report sequences (land)</td>\n      <td>307092</td>\n      <td>(BUFR template for surface observations from n-minute period)</td>\n      <td>NaN</td>\n      <td>204018</td>\n      <td>Add associated field</td>\n      <td>NaN</td>\n      <td>NaN</td>\n      <td>Operational</td>\n    </tr>\n    <tr>\n      <th>2767</th>\n      <td>7</td>\n      <td>Surface report sequences (land)</td>\n      <td>307092</td>\n      <td>(BUFR template for surface observations from n-minute period)</td>\n      <td>NaN</td>\n      <td>31021</td>\n      <td>Associated field significance</td>\n      <td>NaN</td>\n      <td>NaN</td>\n      <td>Operational</td>\n    </tr>\n    <tr>\n      <th>2768</th>\n      <td>7</td>\n      <td>Surface report sequences (land)</td>\n      <td>307092</td>\n      <td>(BUFR template for surface observations from n-minute period)</td>\n      <td>NaN</td>\n      <td>20011</td>\n      <td>Cloud amount</td>\n      <td>NaN</td>\n      <td>NaN</td>\n      <td>Operational</td>\n    </tr>\n    <tr>\n      <th>2769</th>\n      <td>7</td>\n      <td>Surface report sequences (land)</td>\n      <td>307092</td>\n      <td>(BUFR template for surface observations from n-minute period)</td>\n      <td>NaN</td>\n      <td>20013</td>\n      <td>Height of base of cloud</td>\n      <td>NaN</td>\n      <td>NaN</td>\n      <td>Operational</td>\n    </tr>\n    <tr>\n      <th>2770</th>\n      <td>7</td>\n      <td>Surface report sequences (land)</td>\n      <td>307092</td>\n      <td>(BUFR template for surface observations from n-minute period)</td>\n      <td>NaN</td>\n      <td>204000</td>\n      <td>Add associated field</td>\n      <td>Cancel</td>\n      <td>NaN</td>\n      <td>Operational</td>\n    </tr>\n    <tr>\n      <th>2771</th>\n      <td>7</td>\n      <td>Surface report sequences (land)</td>\n      <td>307092</td>\n      <td>(BUFR template for surface observations from n-minute period)</td>\n      <td>NaN</td>\n      <td>8002</td>\n      <td>Vertical significance (surface observations)</td>\n      <td>Set to missing (cancel)</td>\n      <td>NaN</td>\n      <td>Operational</td>\n    </tr>\n    <tr>\n      <th>2772</th>\n      <td>7</td>\n      <td>Surface report sequences (land)</td>\n      <td>307092</td>\n      <td>(BUFR template for surface observations from n-minute period)</td>\n      <td>NaN</td>\n      <td>105000</td>\n      <td>Delayed replication of 5 descriptors</td>\n      <td>NaN</td>\n      <td>NaN</td>\n      <td>Operational</td>\n    </tr>\n    <tr>\n      <th>2773</th>\n      <td>7</td>\n      <td>Surface report sequences (land)</td>\n      <td>307092</td>\n      <td>(BUFR template for surface observations from n-minute period)</td>\n      <td>NaN</td>\n      <td>31000</td>\n      <td>Short delayed descriptor replication factor</td>\n      <td>NaN</td>\n      <td>NaN</td>\n      <td>Operational</td>\n    </tr>\n    <tr>\n      <th>2774</th>\n      <td>7</td>\n      <td>Surface report sequences (land)</td>\n      <td>307092</td>\n      <td>(BUFR template for surface observations from n-minute period)</td>\n      <td>NaN</td>\n      <td>204018</td>\n      <td>Add associated field</td>\n      <td>NaN</td>\n      <td>NaN</td>\n      <td>Operational</td>\n    </tr>\n    <tr>\n      <th>2775</th>\n      <td>7</td>\n      <td>Surface report sequences (land)</td>\n      <td>307092</td>\n      <td>(BUFR template for surface observations from n-minute period)</td>\n      <td>NaN</td>\n      <td>31021</td>\n      <td>Associated field significance</td>\n      <td>NaN</td>\n      <td>NaN</td>\n      <td>Operational</td>\n    </tr>\n    <tr>\n      <th>2776</th>\n      <td>7</td>\n      <td>Surface report sequences (land)</td>\n      <td>307092</td>\n      <td>(BUFR template for surface observations from n-minute period)</td>\n      <td>NaN</td>\n      <td>20062</td>\n      <td>State of ground (with or without snow)</td>\n      <td>NaN</td>\n      <td>NaN</td>\n      <td>Operational</td>\n    </tr>\n    <tr>\n      <th>2777</th>\n      <td>7</td>\n      <td>Surface report sequences (land)</td>\n      <td>307092</td>\n      <td>(BUFR template for surface observations from n-minute period)</td>\n      <td>NaN</td>\n      <td>13013</td>\n      <td>Total snow depth</td>\n      <td>NaN</td>\n      <td>NaN</td>\n      <td>Operational</td>\n    </tr>\n    <tr>\n      <th>2778</th>\n      <td>7</td>\n      <td>Surface report sequences (land)</td>\n      <td>307092</td>\n      <td>(BUFR template for surface observations from n-minute period)</td>\n      <td>NaN</td>\n      <td>204000</td>\n      <td>Add associated field</td>\n      <td>Cancel</td>\n      <td>NaN</td>\n      <td>Operational</td>\n    </tr>\n    <tr>\n      <th>2779</th>\n      <td>7</td>\n      <td>Surface report sequences (land)</td>\n      <td>307092</td>\n      <td>(BUFR template for surface observations from n-minute period)</td>\n      <td>NaN</td>\n      <td>105000</td>\n      <td>Delayed replication of 5 descriptors</td>\n      <td>NaN</td>\n      <td>NaN</td>\n      <td>Operational</td>\n    </tr>\n    <tr>\n      <th>2780</th>\n      <td>7</td>\n      <td>Surface report sequences (land)</td>\n      <td>307092</td>\n      <td>(BUFR template for surface observations from n-minute period)</td>\n      <td>NaN</td>\n      <td>31000</td>\n      <td>Short delayed descriptor replication factor</td>\n      <td>NaN</td>\n      <td>NaN</td>\n      <td>Operational</td>\n    </tr>\n    <tr>\n      <th>2781</th>\n      <td>7</td>\n      <td>Surface report sequences (land)</td>\n      <td>307092</td>\n      <td>(BUFR template for surface observations from n-minute period)</td>\n      <td>NaN</td>\n      <td>4025</td>\n      <td>Time period or displacement</td>\n      <td>= -n minutes</td>\n      <td>NaN</td>\n      <td>Operational</td>\n    </tr>\n    <tr>\n      <th>2782</th>\n      <td>7</td>\n      <td>Surface report sequences (land)</td>\n      <td>307092</td>\n      <td>(BUFR template for surface observations from n-minute period)</td>\n      <td>NaN</td>\n      <td>204018</td>\n      <td>Add associated field</td>\n      <td>NaN</td>\n      <td>NaN</td>\n      <td>Operational</td>\n    </tr>\n    <tr>\n      <th>2783</th>\n      <td>7</td>\n      <td>Surface report sequences (land)</td>\n      <td>307092</td>\n      <td>(BUFR template for surface observations from n-minute period)</td>\n      <td>NaN</td>\n      <td>31021</td>\n      <td>Associated field significance</td>\n      <td>NaN</td>\n      <td>NaN</td>\n      <td>Operational</td>\n    </tr>\n    <tr>\n      <th>2784</th>\n      <td>7</td>\n      <td>Surface report sequences (land)</td>\n      <td>307092</td>\n      <td>(BUFR template for surface observations from n-minute period)</td>\n      <td>NaN</td>\n      <td>20003</td>\n      <td>Present weather</td>\n      <td>NaN</td>\n      <td>NaN</td>\n      <td>Operational</td>\n    </tr>\n    <tr>\n      <th>2785</th>\n      <td>7</td>\n      <td>Surface report sequences (land)</td>\n      <td>307092</td>\n      <td>(BUFR template for surface observations from n-minute period)</td>\n      <td>NaN</td>\n      <td>204000</td>\n      <td>Add associated field</td>\n      <td>Cancel</td>\n      <td>NaN</td>\n      <td>Operational</td>\n    </tr>\n    <tr>\n      <th>2786</th>\n      <td>7</td>\n      <td>Surface report sequences (land)</td>\n      <td>307092</td>\n      <td>(BUFR template for surface observations from n-minute period)</td>\n      <td>NaN</td>\n      <td>105000</td>\n      <td>Delayed replication of 5 descriptors</td>\n      <td>NaN</td>\n      <td>NaN</td>\n      <td>Operational</td>\n    </tr>\n    <tr>\n      <th>2787</th>\n      <td>7</td>\n      <td>Surface report sequences (land)</td>\n      <td>307092</td>\n      <td>(BUFR template for surface observations from n-minute period)</td>\n      <td>NaN</td>\n      <td>31000</td>\n      <td>Short delayed descriptor replication factor</td>\n      <td>NaN</td>\n      <td>NaN</td>\n      <td>Operational</td>\n    </tr>\n    <tr>\n      <th>2788</th>\n      <td>7</td>\n      <td>Surface report sequences (land)</td>\n      <td>307092</td>\n      <td>(BUFR template for surface observations from n-minute period)</td>\n      <td>NaN</td>\n      <td>4025</td>\n      <td>Time period or displacement</td>\n      <td>= -n minutes</td>\n      <td>NaN</td>\n      <td>Operational</td>\n    </tr>\n    <tr>\n      <th>2789</th>\n      <td>7</td>\n      <td>Surface report sequences (land)</td>\n      <td>307092</td>\n      <td>(BUFR template for surface observations from n-minute period)</td>\n      <td>NaN</td>\n      <td>204018</td>\n      <td>Add associated field</td>\n      <td>NaN</td>\n      <td>NaN</td>\n      <td>Operational</td>\n    </tr>\n    <tr>\n      <th>2790</th>\n      <td>7</td>\n      <td>Surface report sequences (land)</td>\n      <td>307092</td>\n      <td>(BUFR template for surface observations from n-minute period)</td>\n      <td>NaN</td>\n      <td>31021</td>\n      <td>Associated field significance</td>\n      <td>NaN</td>\n      <td>NaN</td>\n      <td>Operational</td>\n    </tr>\n    <tr>\n      <th>2791</th>\n      <td>7</td>\n      <td>Surface report sequences (land)</td>\n      <td>307092</td>\n      <td>(BUFR template for surface observations from n-minute period)</td>\n      <td>NaN</td>\n      <td>13011</td>\n      <td>Total precipitation/total water equivalent</td>\n      <td>Snow</td>\n      <td>NaN</td>\n      <td>Operational</td>\n    </tr>\n    <tr>\n      <th>2792</th>\n      <td>7</td>\n      <td>Surface report sequences (land)</td>\n      <td>307092</td>\n      <td>(BUFR template for surface observations from n-minute period)</td>\n      <td>NaN</td>\n      <td>204000</td>\n      <td>Add associated field</td>\n      <td>Cancel</td>\n      <td>NaN</td>\n      <td>Operational</td>\n    </tr>\n    <tr>\n      <th>2793</th>\n      <td>7</td>\n      <td>Surface report sequences (land)</td>\n      <td>307092</td>\n      <td>(BUFR template for surface observations from n-minute period)</td>\n      <td>NaN</td>\n      <td>115000</td>\n      <td>Delayed replication of 15 descriptors</td>\n      <td>NaN</td>\n      <td>NaN</td>\n      <td>Operational</td>\n    </tr>\n    <tr>\n      <th>2794</th>\n      <td>7</td>\n      <td>Surface report sequences (land)</td>\n      <td>307092</td>\n      <td>(BUFR template for surface observations from n-minute period)</td>\n      <td>NaN</td>\n      <td>31001</td>\n      <td>Delayed descriptor replication factor</td>\n      <td>NaN</td>\n      <td>NaN</td>\n      <td>Operational</td>\n    </tr>\n    <tr>\n      <th>2795</th>\n      <td>7</td>\n      <td>Surface report sequences (land)</td>\n      <td>307092</td>\n      <td>(BUFR template for surface observations from n-minute period)</td>\n      <td>NaN</td>\n      <td>7032</td>\n      <td>Height of sensor above local ground (or deck of marine platform)</td>\n      <td>NaN</td>\n      <td>NaN</td>\n      <td>Operational</td>\n    </tr>\n    <tr>\n      <th>2796</th>\n      <td>7</td>\n      <td>Surface report sequences (land)</td>\n      <td>307092</td>\n      <td>(BUFR template for surface observations from n-minute period)</td>\n      <td>NaN</td>\n      <td>8021</td>\n      <td>Time significance</td>\n      <td>= 2 Time averaged</td>\n      <td>NaN</td>\n      <td>Operational</td>\n    </tr>\n    <tr>\n      <th>2797</th>\n      <td>7</td>\n      <td>Surface report sequences (land)</td>\n      <td>307092</td>\n      <td>(BUFR template for surface observations from n-minute period)</td>\n      <td>NaN</td>\n      <td>4025</td>\n      <td>Time period or displacement</td>\n      <td>= -10 minutes, or number of minutes after a significant change of wind</td>\n      <td>NaN</td>\n      <td>Operational</td>\n    </tr>\n    <tr>\n      <th>2798</th>\n      <td>7</td>\n      <td>Surface report sequences (land)</td>\n      <td>307092</td>\n      <td>(BUFR template for surface observations from n-minute period)</td>\n      <td>NaN</td>\n      <td>204018</td>\n      <td>Add associated field</td>\n      <td>NaN</td>\n      <td>NaN</td>\n      <td>Operational</td>\n    </tr>\n    <tr>\n      <th>2799</th>\n      <td>7</td>\n      <td>Surface report sequences (land)</td>\n      <td>307092</td>\n      <td>(BUFR template for surface observations from n-minute period)</td>\n      <td>NaN</td>\n      <td>31021</td>\n      <td>Associated field significance</td>\n      <td>NaN</td>\n      <td>NaN</td>\n      <td>Operational</td>\n    </tr>\n    <tr>\n      <th>2800</th>\n      <td>7</td>\n      <td>Surface report sequences (land)</td>\n      <td>307092</td>\n      <td>(BUFR template for surface observations from n-minute period)</td>\n      <td>NaN</td>\n      <td>11001</td>\n      <td>Wind direction</td>\n      <td>NaN</td>\n      <td>NaN</td>\n      <td>Operational</td>\n    </tr>\n    <tr>\n      <th>2801</th>\n      <td>7</td>\n      <td>Surface report sequences (land)</td>\n      <td>307092</td>\n      <td>(BUFR template for surface observations from n-minute period)</td>\n      <td>NaN</td>\n      <td>11002</td>\n      <td>Wind speed</td>\n      <td>NaN</td>\n      <td>NaN</td>\n      <td>Operational</td>\n    </tr>\n    <tr>\n      <th>2802</th>\n      <td>7</td>\n      <td>Surface report sequences (land)</td>\n      <td>307092</td>\n      <td>(BUFR template for surface observations from n-minute period)</td>\n      <td>NaN</td>\n      <td>204000</td>\n      <td>Add associated field</td>\n      <td>Cancel</td>\n      <td>NaN</td>\n      <td>Operational</td>\n    </tr>\n    <tr>\n      <th>2803</th>\n      <td>7</td>\n      <td>Surface report sequences (land)</td>\n      <td>307092</td>\n      <td>(BUFR template for surface observations from n-minute period)</td>\n      <td>NaN</td>\n      <td>8021</td>\n      <td>Time significance</td>\n      <td>Set to missing (cancel)</td>\n      <td>NaN</td>\n      <td>Operational</td>\n    </tr>\n    <tr>\n      <th>2804</th>\n      <td>7</td>\n      <td>Surface report sequences (land)</td>\n      <td>307092</td>\n      <td>(BUFR template for surface observations from n-minute period)</td>\n      <td>NaN</td>\n      <td>204018</td>\n      <td>Add associated field</td>\n      <td>NaN</td>\n      <td>NaN</td>\n      <td>Operational</td>\n    </tr>\n    <tr>\n      <th>2805</th>\n      <td>7</td>\n      <td>Surface report sequences (land)</td>\n      <td>307092</td>\n      <td>(BUFR template for surface observations from n-minute period)</td>\n      <td>NaN</td>\n      <td>31021</td>\n      <td>Associated field significance</td>\n      <td>NaN</td>\n      <td>NaN</td>\n      <td>Operational</td>\n    </tr>\n    <tr>\n      <th>2806</th>\n      <td>7</td>\n      <td>Surface report sequences (land)</td>\n      <td>307092</td>\n      <td>(BUFR template for surface observations from n-minute period)</td>\n      <td>NaN</td>\n      <td>11043</td>\n      <td>Maximum wind gust direction</td>\n      <td>NaN</td>\n      <td>NaN</td>\n      <td>Operational</td>\n    </tr>\n    <tr>\n      <th>2807</th>\n      <td>7</td>\n      <td>Surface report sequences (land)</td>\n      <td>307092</td>\n      <td>(BUFR template for surface observations from n-minute period)</td>\n      <td>NaN</td>\n      <td>11041</td>\n      <td>Maximum wind gust speed</td>\n      <td>NaN</td>\n      <td>NaN</td>\n      <td>Operational</td>\n    </tr>\n    <tr>\n      <th>2808</th>\n      <td>7</td>\n      <td>Surface report sequences (land)</td>\n      <td>307092</td>\n      <td>(BUFR template for surface observations from n-minute period)</td>\n      <td>NaN</td>\n      <td>204000</td>\n      <td>Add associated field</td>\n      <td>Cancel</td>\n      <td>NaN</td>\n      <td>Operational</td>\n    </tr>\n    <tr>\n      <th>2809</th>\n      <td>7</td>\n      <td>Surface report sequences (land)</td>\n      <td>307092</td>\n      <td>(BUFR template for surface observations from n-minute period)</td>\n      <td>NaN</td>\n      <td>7032</td>\n      <td>Height of sensor above local ground (or deck of marine platform)</td>\n      <td>Set to missing (cancel)</td>\n      <td>NaN</td>\n      <td>Operational</td>\n    </tr>\n    <tr>\n      <th>2810</th>\n      <td>7</td>\n      <td>Surface report sequences (land)</td>\n      <td>307092</td>\n      <td>(BUFR template for surface observations from n-minute period)</td>\n      <td>NaN</td>\n      <td>105000</td>\n      <td>Delayed replication of 5 descriptors</td>\n      <td>NaN</td>\n      <td>NaN</td>\n      <td>Operational</td>\n    </tr>\n    <tr>\n      <th>2811</th>\n      <td>7</td>\n      <td>Surface report sequences (land)</td>\n      <td>307092</td>\n      <td>(BUFR template for surface observations from n-minute period)</td>\n      <td>NaN</td>\n      <td>31000</td>\n      <td>Short delayed descriptor replication factor</td>\n      <td>NaN</td>\n      <td>NaN</td>\n      <td>Operational</td>\n    </tr>\n    <tr>\n      <th>2812</th>\n      <td>7</td>\n      <td>Surface report sequences (land)</td>\n      <td>307092</td>\n      <td>(BUFR template for surface observations from n-minute period)</td>\n      <td>NaN</td>\n      <td>4025</td>\n      <td>Time period or displacement</td>\n      <td>= -n minutes (default n = 10)</td>\n      <td>NaN</td>\n      <td>Operational</td>\n    </tr>\n    <tr>\n      <th>2813</th>\n      <td>7</td>\n      <td>Surface report sequences (land)</td>\n      <td>307092</td>\n      <td>(BUFR template for surface observations from n-minute period)</td>\n      <td>NaN</td>\n      <td>204018</td>\n      <td>Add associated field</td>\n      <td>NaN</td>\n      <td>NaN</td>\n      <td>Operational</td>\n    </tr>\n    <tr>\n      <th>2814</th>\n      <td>7</td>\n      <td>Surface report sequences (land)</td>\n      <td>307092</td>\n      <td>(BUFR template for surface observations from n-minute period)</td>\n      <td>NaN</td>\n      <td>31021</td>\n      <td>Associated field significance</td>\n      <td>NaN</td>\n      <td>NaN</td>\n      <td>Operational</td>\n    </tr>\n    <tr>\n      <th>2815</th>\n      <td>7</td>\n      <td>Surface report sequences (land)</td>\n      <td>307092</td>\n      <td>(BUFR template for surface observations from n-minute period)</td>\n      <td>NaN</td>\n      <td>14031</td>\n      <td>Total sunshine</td>\n      <td>NaN</td>\n      <td>NaN</td>\n      <td>Operational</td>\n    </tr>\n    <tr>\n      <th>2816</th>\n      <td>7</td>\n      <td>Surface report sequences (land)</td>\n      <td>307092</td>\n      <td>(BUFR template for surface observations from n-minute period)</td>\n      <td>NaN</td>\n      <td>204000</td>\n      <td>Add associated field</td>\n      <td>Cancel</td>\n      <td>NaN</td>\n      <td>Operational</td>\n    </tr>\n    <tr>\n      <th>2817</th>\n      <td>7</td>\n      <td>Surface report sequences (land)</td>\n      <td>307092</td>\n      <td>(BUFR template for surface observations from n-minute period)</td>\n      <td>NaN</td>\n      <td>110000</td>\n      <td>Delayed replication of 10 descriptors</td>\n      <td>NaN</td>\n      <td>NaN</td>\n      <td>Operational</td>\n    </tr>\n    <tr>\n      <th>2818</th>\n      <td>7</td>\n      <td>Surface report sequences (land)</td>\n      <td>307092</td>\n      <td>(BUFR template for surface observations from n-minute period)</td>\n      <td>NaN</td>\n      <td>31000</td>\n      <td>Short delayed descriptor replication factor</td>\n      <td>Open or close (1/0)</td>\n      <td>NaN</td>\n      <td>Operational</td>\n    </tr>\n    <tr>\n      <th>2819</th>\n      <td>7</td>\n      <td>Surface report sequences (land)</td>\n      <td>307092</td>\n      <td>(BUFR template for surface observations from n-minute period)</td>\n      <td>NaN</td>\n      <td>4025</td>\n      <td>Time period or displacement</td>\n      <td>= -n minutes (default n = 10)</td>\n      <td>NaN</td>\n      <td>Operational</td>\n    </tr>\n    <tr>\n      <th>2820</th>\n      <td>7</td>\n      <td>Surface report sequences (land)</td>\n      <td>307092</td>\n      <td>(BUFR template for surface observations from n-minute period)</td>\n      <td>NaN</td>\n      <td>204018</td>\n      <td>Add associated field</td>\n      <td>NaN</td>\n      <td>NaN</td>\n      <td>Operational</td>\n    </tr>\n    <tr>\n      <th>2821</th>\n      <td>7</td>\n      <td>Surface report sequences (land)</td>\n      <td>307092</td>\n      <td>(BUFR template for surface observations from n-minute period)</td>\n      <td>NaN</td>\n      <td>31021</td>\n      <td>Associated field significance</td>\n      <td>NaN</td>\n      <td>NaN</td>\n      <td>Operational</td>\n    </tr>\n    <tr>\n      <th>2822</th>\n      <td>7</td>\n      <td>Surface report sequences (land)</td>\n      <td>307092</td>\n      <td>(BUFR template for surface observations from n-minute period)</td>\n      <td>NaN</td>\n      <td>14002</td>\n      <td>Long-wave radiation, integrated over period specified</td>\n      <td>Upward long-wave radiation | according to BUFR Table B, under Class 14, Note 2: negative values</td>\n      <td>NaN</td>\n      <td>Operational</td>\n    </tr>\n    <tr>\n      <th>2823</th>\n      <td>7</td>\n      <td>Surface report sequences (land)</td>\n      <td>307092</td>\n      <td>(BUFR template for surface observations from n-minute period)</td>\n      <td>NaN</td>\n      <td>14002</td>\n      <td>Long-wave radiation, integrated over period specified</td>\n      <td>Downward long-wave radiation | according to BUFR Table B, under Class 14, Note 1: positive values</td>\n      <td>NaN</td>\n      <td>Operational</td>\n    </tr>\n    <tr>\n      <th>2824</th>\n      <td>7</td>\n      <td>Surface report sequences (land)</td>\n      <td>307092</td>\n      <td>(BUFR template for surface observations from n-minute period)</td>\n      <td>NaN</td>\n      <td>14004</td>\n      <td>Short-wave radiation, integrated over period specified</td>\n      <td>Upward short-wave radiation | according to BUFR Table B, under Class 14, Note 2: negative values</td>\n      <td>NaN</td>\n      <td>Operational</td>\n    </tr>\n    <tr>\n      <th>2825</th>\n      <td>7</td>\n      <td>Surface report sequences (land)</td>\n      <td>307092</td>\n      <td>(BUFR template for surface observations from n-minute period)</td>\n      <td>NaN</td>\n      <td>14028</td>\n      <td>Global solar radiation (high accuracy), integrated over period specified</td>\n      <td>NaN</td>\n      <td>NaN</td>\n      <td>Operational</td>\n    </tr>\n    <tr>\n      <th>2826</th>\n      <td>7</td>\n      <td>Surface report sequences (land)</td>\n      <td>307092</td>\n      <td>(BUFR template for surface observations from n-minute period)</td>\n      <td>NaN</td>\n      <td>14029</td>\n      <td>Diffuse solar radiation (high accuracy), integrated over period specified</td>\n      <td>NaN</td>\n      <td>NaN</td>\n      <td>Operational</td>\n    </tr>\n    <tr>\n      <th>2827</th>\n      <td>7</td>\n      <td>Surface report sequences (land)</td>\n      <td>307092</td>\n      <td>(BUFR template for surface observations from n-minute period)</td>\n      <td>NaN</td>\n      <td>14030</td>\n      <td>Direct solar radiation (high accuracy), integrated over period specified</td>\n      <td>NaN</td>\n      <td>NaN</td>\n      <td>Operational</td>\n    </tr>\n    <tr>\n      <th>2828</th>\n      <td>7</td>\n      <td>Surface report sequences (land)</td>\n      <td>307092</td>\n      <td>(BUFR template for surface observations from n-minute period)</td>\n      <td>NaN</td>\n      <td>204000</td>\n      <td>Add associated field</td>\n      <td>Cancel</td>\n      <td>NaN</td>\n      <td>Operational</td>\n    </tr>\n    <tr>\n      <th>2829</th>\n      <td>7</td>\n      <td>Surface report sequences (land)</td>\n      <td>307092</td>\n      <td>(BUFR template for surface observations from n-minute period)</td>\n      <td>NaN</td>\n      <td>113000</td>\n      <td>Delayed replication of 13 descriptors</td>\n      <td>NaN</td>\n      <td>NaN</td>\n      <td>Operational</td>\n    </tr>\n    <tr>\n      <th>2830</th>\n      <td>7</td>\n      <td>Surface report sequences (land)</td>\n      <td>307092</td>\n      <td>(BUFR template for surface observations from n-minute period)</td>\n      <td>NaN</td>\n      <td>31000</td>\n      <td>Short delayed descriptor replication factor</td>\n      <td>NaN</td>\n      <td>NaN</td>\n      <td>Operational</td>\n    </tr>\n    <tr>\n      <th>2831</th>\n      <td>7</td>\n      <td>Surface report sequences (land)</td>\n      <td>307092</td>\n      <td>(BUFR template for surface observations from n-minute period)</td>\n      <td>NaN</td>\n      <td>4025</td>\n      <td>Time period or displacement</td>\n      <td>= -n minutes (default n = 10)</td>\n      <td>NaN</td>\n      <td>Operational</td>\n    </tr>\n    <tr>\n      <th>2832</th>\n      <td>7</td>\n      <td>Surface report sequences (land)</td>\n      <td>307092</td>\n      <td>(BUFR template for surface observations from n-minute period)</td>\n      <td>NaN</td>\n      <td>2071</td>\n      <td>Spectrographic wavelength</td>\n      <td>UV-A: 315 nm</td>\n      <td>NaN</td>\n      <td>Operational</td>\n    </tr>\n    <tr>\n      <th>2833</th>\n      <td>7</td>\n      <td>Surface report sequences (land)</td>\n      <td>307092</td>\n      <td>(BUFR template for surface observations from n-minute period)</td>\n      <td>NaN</td>\n      <td>2072</td>\n      <td>Spectrographic width</td>\n      <td>UV-A: 85 nm</td>\n      <td>NaN</td>\n      <td>Operational</td>\n    </tr>\n    <tr>\n      <th>2834</th>\n      <td>7</td>\n      <td>Surface report sequences (land)</td>\n      <td>307092</td>\n      <td>(BUFR template for surface observations from n-minute period)</td>\n      <td>NaN</td>\n      <td>204018</td>\n      <td>Add associated field</td>\n      <td>NaN</td>\n      <td>NaN</td>\n      <td>Operational</td>\n    </tr>\n    <tr>\n      <th>2835</th>\n      <td>7</td>\n      <td>Surface report sequences (land)</td>\n      <td>307092</td>\n      <td>(BUFR template for surface observations from n-minute period)</td>\n      <td>NaN</td>\n      <td>31021</td>\n      <td>Associated field significance</td>\n      <td>NaN</td>\n      <td>NaN</td>\n      <td>Operational</td>\n    </tr>\n    <tr>\n      <th>2836</th>\n      <td>7</td>\n      <td>Surface report sequences (land)</td>\n      <td>307092</td>\n      <td>(BUFR template for surface observations from n-minute period)</td>\n      <td>NaN</td>\n      <td>14072</td>\n      <td>Global UV irradiation</td>\n      <td>Integrated over period specified | UV-A irradiation | according to BUFR Table B under Class 14, Note 8 (ISO 21348: UV-A wave length range 315 ≤ λ ≤400 nm)</td>\n      <td>NaN</td>\n      <td>Operational</td>\n    </tr>\n    <tr>\n      <th>2837</th>\n      <td>7</td>\n      <td>Surface report sequences (land)</td>\n      <td>307092</td>\n      <td>(BUFR template for surface observations from n-minute period)</td>\n      <td>NaN</td>\n      <td>204000</td>\n      <td>Add associated field</td>\n      <td>Cancel</td>\n      <td>NaN</td>\n      <td>Operational</td>\n    </tr>\n    <tr>\n      <th>2838</th>\n      <td>7</td>\n      <td>Surface report sequences (land)</td>\n      <td>307092</td>\n      <td>(BUFR template for surface observations from n-minute period)</td>\n      <td>NaN</td>\n      <td>2071</td>\n      <td>Spectrographic wavelength</td>\n      <td>UV-B: 280 nm</td>\n      <td>NaN</td>\n      <td>Operational</td>\n    </tr>\n    <tr>\n      <th>2839</th>\n      <td>7</td>\n      <td>Surface report sequences (land)</td>\n      <td>307092</td>\n      <td>(BUFR template for surface observations from n-minute period)</td>\n      <td>NaN</td>\n      <td>2072</td>\n      <td>Spectrographic width</td>\n      <td>UV-B: 35 nm</td>\n      <td>NaN</td>\n      <td>Operational</td>\n    </tr>\n    <tr>\n      <th>2840</th>\n      <td>7</td>\n      <td>Surface report sequences (land)</td>\n      <td>307092</td>\n      <td>(BUFR template for surface observations from n-minute period)</td>\n      <td>NaN</td>\n      <td>204018</td>\n      <td>Add associated field</td>\n      <td>NaN</td>\n      <td>NaN</td>\n      <td>Operational</td>\n    </tr>\n    <tr>\n      <th>2841</th>\n      <td>7</td>\n      <td>Surface report sequences (land)</td>\n      <td>307092</td>\n      <td>(BUFR template for surface observations from n-minute period)</td>\n      <td>NaN</td>\n      <td>31021</td>\n      <td>Associated field significance</td>\n      <td>Quality flag</td>\n      <td>NaN</td>\n      <td>Operational</td>\n    </tr>\n    <tr>\n      <th>2842</th>\n      <td>7</td>\n      <td>Surface report sequences (land)</td>\n      <td>307092</td>\n      <td>(BUFR template for surface observations from n-minute period)</td>\n      <td>NaN</td>\n      <td>14072</td>\n      <td>Global UV irradiation</td>\n      <td>Integrated over period specified | UV-B irradiation | according to BUFR Table B under Class 14, Note 8 (ISO 21348 UV-B wave length range 280 ≤ λ ≤ 315 nm)</td>\n      <td>NaN</td>\n      <td>Operational</td>\n    </tr>\n    <tr>\n      <th>2843</th>\n      <td>7</td>\n      <td>Surface report sequences (land)</td>\n      <td>307092</td>\n      <td>(BUFR template for surface observations from n-minute period)</td>\n      <td>NaN</td>\n      <td>204000</td>\n      <td>Add associated field</td>\n      <td>Cancel</td>\n      <td>NaN</td>\n      <td>Operational</td>\n    </tr>\n  </tbody>\n</table>\n</div>",
                  "text/plain": "      Category           CategoryOfSequences_en  ...  Note_en       Status\n2704         7  Surface report sequences (land)  ...      NaN  Operational\n2705         7  Surface report sequences (land)  ...      NaN  Operational\n2706         7  Surface report sequences (land)  ...      NaN  Operational\n2707         7  Surface report sequences (land)  ...      NaN  Operational\n2708         7  Surface report sequences (land)  ...      NaN  Operational\n2709         7  Surface report sequences (land)  ...      NaN  Operational\n2710         7  Surface report sequences (land)  ...      NaN  Operational\n2711         7  Surface report sequences (land)  ...      NaN  Operational\n2712         7  Surface report sequences (land)  ...      NaN  Operational\n2713         7  Surface report sequences (land)  ...      NaN  Operational\n2714         7  Surface report sequences (land)  ...      NaN  Operational\n2715         7  Surface report sequences (land)  ...      NaN  Operational\n2716         7  Surface report sequences (land)  ...      NaN  Operational\n2717         7  Surface report sequences (land)  ...      NaN  Operational\n2718         7  Surface report sequences (land)  ...      NaN  Operational\n2719         7  Surface report sequences (land)  ...      NaN  Operational\n2720         7  Surface report sequences (land)  ...      NaN  Operational\n2721         7  Surface report sequences (land)  ...      NaN  Operational\n2722         7  Surface report sequences (land)  ...      NaN  Operational\n2723         7  Surface report sequences (land)  ...      NaN  Operational\n2724         7  Surface report sequences (land)  ...      NaN  Operational\n2725         7  Surface report sequences (land)  ...      NaN  Operational\n2726         7  Surface report sequences (land)  ...      NaN  Operational\n2727         7  Surface report sequences (land)  ...      NaN  Operational\n2728         7  Surface report sequences (land)  ...      NaN  Operational\n2729         7  Surface report sequences (land)  ...      NaN  Operational\n2730         7  Surface report sequences (land)  ...      NaN  Operational\n2731         7  Surface report sequences (land)  ...      NaN  Operational\n2732         7  Surface report sequences (land)  ...      NaN  Operational\n2733         7  Surface report sequences (land)  ...      NaN  Operational\n2734         7  Surface report sequences (land)  ...      NaN  Operational\n2735         7  Surface report sequences (land)  ...      NaN  Operational\n2736         7  Surface report sequences (land)  ...      NaN  Operational\n2737         7  Surface report sequences (land)  ...      NaN  Operational\n2738         7  Surface report sequences (land)  ...      NaN  Operational\n2739         7  Surface report sequences (land)  ...      NaN  Operational\n2740         7  Surface report sequences (land)  ...      NaN  Operational\n2741         7  Surface report sequences (land)  ...      NaN  Operational\n2742         7  Surface report sequences (land)  ...      NaN  Operational\n2743         7  Surface report sequences (land)  ...      NaN  Operational\n2744         7  Surface report sequences (land)  ...      NaN  Operational\n2745         7  Surface report sequences (land)  ...      NaN  Operational\n2746         7  Surface report sequences (land)  ...      NaN  Operational\n2747         7  Surface report sequences (land)  ...      NaN  Operational\n2748         7  Surface report sequences (land)  ...      NaN  Operational\n2749         7  Surface report sequences (land)  ...      NaN  Operational\n2750         7  Surface report sequences (land)  ...      NaN  Operational\n2751         7  Surface report sequences (land)  ...      NaN  Operational\n2752         7  Surface report sequences (land)  ...      NaN  Operational\n2753         7  Surface report sequences (land)  ...      NaN  Operational\n2754         7  Surface report sequences (land)  ...      NaN  Operational\n2755         7  Surface report sequences (land)  ...      NaN  Operational\n2756         7  Surface report sequences (land)  ...      NaN  Operational\n2757         7  Surface report sequences (land)  ...      NaN  Operational\n2758         7  Surface report sequences (land)  ...      NaN  Operational\n2759         7  Surface report sequences (land)  ...      NaN  Operational\n2760         7  Surface report sequences (land)  ...      NaN  Operational\n2761         7  Surface report sequences (land)  ...      NaN  Operational\n2762         7  Surface report sequences (land)  ...      NaN  Operational\n2763         7  Surface report sequences (land)  ...      NaN  Operational\n2764         7  Surface report sequences (land)  ...      NaN  Operational\n2765         7  Surface report sequences (land)  ...      NaN  Operational\n2766         7  Surface report sequences (land)  ...      NaN  Operational\n2767         7  Surface report sequences (land)  ...      NaN  Operational\n2768         7  Surface report sequences (land)  ...      NaN  Operational\n2769         7  Surface report sequences (land)  ...      NaN  Operational\n2770         7  Surface report sequences (land)  ...      NaN  Operational\n2771         7  Surface report sequences (land)  ...      NaN  Operational\n2772         7  Surface report sequences (land)  ...      NaN  Operational\n2773         7  Surface report sequences (land)  ...      NaN  Operational\n2774         7  Surface report sequences (land)  ...      NaN  Operational\n2775         7  Surface report sequences (land)  ...      NaN  Operational\n2776         7  Surface report sequences (land)  ...      NaN  Operational\n2777         7  Surface report sequences (land)  ...      NaN  Operational\n2778         7  Surface report sequences (land)  ...      NaN  Operational\n2779         7  Surface report sequences (land)  ...      NaN  Operational\n2780         7  Surface report sequences (land)  ...      NaN  Operational\n2781         7  Surface report sequences (land)  ...      NaN  Operational\n2782         7  Surface report sequences (land)  ...      NaN  Operational\n2783         7  Surface report sequences (land)  ...      NaN  Operational\n2784         7  Surface report sequences (land)  ...      NaN  Operational\n2785         7  Surface report sequences (land)  ...      NaN  Operational\n2786         7  Surface report sequences (land)  ...      NaN  Operational\n2787         7  Surface report sequences (land)  ...      NaN  Operational\n2788         7  Surface report sequences (land)  ...      NaN  Operational\n2789         7  Surface report sequences (land)  ...      NaN  Operational\n2790         7  Surface report sequences (land)  ...      NaN  Operational\n2791         7  Surface report sequences (land)  ...      NaN  Operational\n2792         7  Surface report sequences (land)  ...      NaN  Operational\n2793         7  Surface report sequences (land)  ...      NaN  Operational\n2794         7  Surface report sequences (land)  ...      NaN  Operational\n2795         7  Surface report sequences (land)  ...      NaN  Operational\n2796         7  Surface report sequences (land)  ...      NaN  Operational\n2797         7  Surface report sequences (land)  ...      NaN  Operational\n2798         7  Surface report sequences (land)  ...      NaN  Operational\n2799         7  Surface report sequences (land)  ...      NaN  Operational\n2800         7  Surface report sequences (land)  ...      NaN  Operational\n2801         7  Surface report sequences (land)  ...      NaN  Operational\n2802         7  Surface report sequences (land)  ...      NaN  Operational\n2803         7  Surface report sequences (land)  ...      NaN  Operational\n2804         7  Surface report sequences (land)  ...      NaN  Operational\n2805         7  Surface report sequences (land)  ...      NaN  Operational\n2806         7  Surface report sequences (land)  ...      NaN  Operational\n2807         7  Surface report sequences (land)  ...      NaN  Operational\n2808         7  Surface report sequences (land)  ...      NaN  Operational\n2809         7  Surface report sequences (land)  ...      NaN  Operational\n2810         7  Surface report sequences (land)  ...      NaN  Operational\n2811         7  Surface report sequences (land)  ...      NaN  Operational\n2812         7  Surface report sequences (land)  ...      NaN  Operational\n2813         7  Surface report sequences (land)  ...      NaN  Operational\n2814         7  Surface report sequences (land)  ...      NaN  Operational\n2815         7  Surface report sequences (land)  ...      NaN  Operational\n2816         7  Surface report sequences (land)  ...      NaN  Operational\n2817         7  Surface report sequences (land)  ...      NaN  Operational\n2818         7  Surface report sequences (land)  ...      NaN  Operational\n2819         7  Surface report sequences (land)  ...      NaN  Operational\n2820         7  Surface report sequences (land)  ...      NaN  Operational\n2821         7  Surface report sequences (land)  ...      NaN  Operational\n2822         7  Surface report sequences (land)  ...      NaN  Operational\n2823         7  Surface report sequences (land)  ...      NaN  Operational\n2824         7  Surface report sequences (land)  ...      NaN  Operational\n2825         7  Surface report sequences (land)  ...      NaN  Operational\n2826         7  Surface report sequences (land)  ...      NaN  Operational\n2827         7  Surface report sequences (land)  ...      NaN  Operational\n2828         7  Surface report sequences (land)  ...      NaN  Operational\n2829         7  Surface report sequences (land)  ...      NaN  Operational\n2830         7  Surface report sequences (land)  ...      NaN  Operational\n2831         7  Surface report sequences (land)  ...      NaN  Operational\n2832         7  Surface report sequences (land)  ...      NaN  Operational\n2833         7  Surface report sequences (land)  ...      NaN  Operational\n2834         7  Surface report sequences (land)  ...      NaN  Operational\n2835         7  Surface report sequences (land)  ...      NaN  Operational\n2836         7  Surface report sequences (land)  ...      NaN  Operational\n2837         7  Surface report sequences (land)  ...      NaN  Operational\n2838         7  Surface report sequences (land)  ...      NaN  Operational\n2839         7  Surface report sequences (land)  ...      NaN  Operational\n2840         7  Surface report sequences (land)  ...      NaN  Operational\n2841         7  Surface report sequences (land)  ...      NaN  Operational\n2842         7  Surface report sequences (land)  ...      NaN  Operational\n2843         7  Surface report sequences (land)  ...      NaN  Operational\n\n[140 rows x 10 columns]"
                },
                "metadata": {},
                "output_type": "display_data"
              }
            ]
          }
        },
        "6671906eca434b388f29d587fad23505": {
          "model_module": "@jupyter-widgets/base",
          "model_module_version": "1.2.0",
          "model_name": "LayoutModel",
          "state": {
            "_model_module": "@jupyter-widgets/base",
            "_model_module_version": "1.2.0",
            "_model_name": "LayoutModel",
            "_view_count": null,
            "_view_module": "@jupyter-widgets/base",
            "_view_module_version": "1.2.0",
            "_view_name": "LayoutView",
            "align_content": null,
            "align_items": null,
            "align_self": null,
            "border": null,
            "bottom": null,
            "display": null,
            "flex": null,
            "flex_flow": null,
            "grid_area": null,
            "grid_auto_columns": null,
            "grid_auto_flow": null,
            "grid_auto_rows": null,
            "grid_column": null,
            "grid_gap": null,
            "grid_row": null,
            "grid_template_areas": null,
            "grid_template_columns": null,
            "grid_template_rows": null,
            "height": null,
            "justify_content": null,
            "justify_items": null,
            "left": null,
            "margin": null,
            "max_height": null,
            "max_width": null,
            "min_height": null,
            "min_width": null,
            "object_fit": null,
            "object_position": null,
            "order": null,
            "overflow": null,
            "overflow_x": null,
            "overflow_y": null,
            "padding": null,
            "right": null,
            "top": null,
            "visibility": null,
            "width": null
          }
        },
        "732e64c9ca964ab4938c4f7887471a5f": {
          "model_module": "@jupyter-widgets/base",
          "model_module_version": "1.2.0",
          "model_name": "LayoutModel",
          "state": {
            "_model_module": "@jupyter-widgets/base",
            "_model_module_version": "1.2.0",
            "_model_name": "LayoutModel",
            "_view_count": null,
            "_view_module": "@jupyter-widgets/base",
            "_view_module_version": "1.2.0",
            "_view_name": "LayoutView",
            "align_content": null,
            "align_items": null,
            "align_self": null,
            "border": null,
            "bottom": null,
            "display": null,
            "flex": null,
            "flex_flow": null,
            "grid_area": null,
            "grid_auto_columns": null,
            "grid_auto_flow": null,
            "grid_auto_rows": null,
            "grid_column": null,
            "grid_gap": null,
            "grid_row": null,
            "grid_template_areas": null,
            "grid_template_columns": null,
            "grid_template_rows": null,
            "height": null,
            "justify_content": null,
            "justify_items": null,
            "left": null,
            "margin": null,
            "max_height": null,
            "max_width": null,
            "min_height": null,
            "min_width": null,
            "object_fit": null,
            "object_position": null,
            "order": null,
            "overflow": null,
            "overflow_x": null,
            "overflow_y": null,
            "padding": null,
            "right": null,
            "top": null,
            "visibility": null,
            "width": null
          }
        },
        "78d85589e80340da9f493c566c782d0c": {
          "model_module": "@jupyter-widgets/controls",
          "model_module_version": "1.5.0",
          "model_name": "DescriptionStyleModel",
          "state": {
            "_model_module": "@jupyter-widgets/controls",
            "_model_module_version": "1.5.0",
            "_model_name": "DescriptionStyleModel",
            "_view_count": null,
            "_view_module": "@jupyter-widgets/base",
            "_view_module_version": "1.2.0",
            "_view_name": "StyleView",
            "description_width": ""
          }
        },
        "7d7fb0e059624a99831ce94ff7282b82": {
          "model_module": "@jupyter-widgets/controls",
          "model_module_version": "1.5.0",
          "model_name": "VBoxModel",
          "state": {
            "_dom_classes": [
              "widget-interact"
            ],
            "_model_module": "@jupyter-widgets/controls",
            "_model_module_version": "1.5.0",
            "_model_name": "VBoxModel",
            "_view_count": null,
            "_view_module": "@jupyter-widgets/controls",
            "_view_module_version": "1.5.0",
            "_view_name": "VBoxView",
            "box_style": "",
            "children": [
              "IPY_MODEL_da69c94cdd3845568c3eec992139edbb",
              "IPY_MODEL_e2863c15213744d581764d719d6593e7",
              "IPY_MODEL_8744a92628944037940e86b13c679011",
              "IPY_MODEL_5e545f07e90b452aa3f840dcccb9d25c"
            ],
            "layout": "IPY_MODEL_6671906eca434b388f29d587fad23505"
          }
        },
        "8744a92628944037940e86b13c679011": {
          "model_module": "@jupyter-widgets/controls",
          "model_module_version": "1.5.0",
          "model_name": "ButtonModel",
          "state": {
            "_dom_classes": [],
            "_model_module": "@jupyter-widgets/controls",
            "_model_module_version": "1.5.0",
            "_model_name": "ButtonModel",
            "_view_count": null,
            "_view_module": "@jupyter-widgets/controls",
            "_view_module_version": "1.5.0",
            "_view_name": "ButtonView",
            "button_style": "",
            "description": "Run Interact",
            "disabled": false,
            "icon": "",
            "layout": "IPY_MODEL_3df6f23a9fc84cb18e6381d35d5070e0",
            "style": "IPY_MODEL_87d7e4a3d0e4474cabd158edee5ffbbe",
            "tooltip": ""
          }
        },
        "87d7e4a3d0e4474cabd158edee5ffbbe": {
          "model_module": "@jupyter-widgets/controls",
          "model_module_version": "1.5.0",
          "model_name": "ButtonStyleModel",
          "state": {
            "_model_module": "@jupyter-widgets/controls",
            "_model_module_version": "1.5.0",
            "_model_name": "ButtonStyleModel",
            "_view_count": null,
            "_view_module": "@jupyter-widgets/base",
            "_view_module_version": "1.2.0",
            "_view_name": "StyleView",
            "button_color": null,
            "font_weight": ""
          }
        },
        "ac738233b74e4b5682a637033e2bb25b": {
          "model_module": "@jupyter-widgets/base",
          "model_module_version": "1.2.0",
          "model_name": "LayoutModel",
          "state": {
            "_model_module": "@jupyter-widgets/base",
            "_model_module_version": "1.2.0",
            "_model_name": "LayoutModel",
            "_view_count": null,
            "_view_module": "@jupyter-widgets/base",
            "_view_module_version": "1.2.0",
            "_view_name": "LayoutView",
            "align_content": null,
            "align_items": null,
            "align_self": null,
            "border": null,
            "bottom": null,
            "display": null,
            "flex": null,
            "flex_flow": null,
            "grid_area": null,
            "grid_auto_columns": null,
            "grid_auto_flow": null,
            "grid_auto_rows": null,
            "grid_column": null,
            "grid_gap": null,
            "grid_row": null,
            "grid_template_areas": null,
            "grid_template_columns": null,
            "grid_template_rows": null,
            "height": null,
            "justify_content": null,
            "justify_items": null,
            "left": null,
            "margin": null,
            "max_height": null,
            "max_width": null,
            "min_height": null,
            "min_width": null,
            "object_fit": null,
            "object_position": null,
            "order": null,
            "overflow": null,
            "overflow_x": null,
            "overflow_y": null,
            "padding": null,
            "right": null,
            "top": null,
            "visibility": null,
            "width": null
          }
        },
        "da69c94cdd3845568c3eec992139edbb": {
          "model_module": "@jupyter-widgets/controls",
          "model_module_version": "1.5.0",
          "model_name": "DropdownModel",
          "state": {
            "_dom_classes": [],
            "_model_module": "@jupyter-widgets/controls",
            "_model_module_version": "1.5.0",
            "_model_name": "DropdownModel",
            "_options_labels": [
              "A",
              "C",
              "D"
            ],
            "_view_count": null,
            "_view_module": "@jupyter-widgets/controls",
            "_view_module_version": "1.5.0",
            "_view_name": "DropdownView",
            "description": "table",
            "description_tooltip": null,
            "disabled": false,
            "index": 2,
            "layout": "IPY_MODEL_732e64c9ca964ab4938c4f7887471a5f",
            "style": "IPY_MODEL_53936c08471b4d63b2da4129870b53bf"
          }
        },
        "e2863c15213744d581764d719d6593e7": {
          "model_module": "@jupyter-widgets/controls",
          "model_module_version": "1.5.0",
          "model_name": "TextModel",
          "state": {
            "_dom_classes": [],
            "_model_module": "@jupyter-widgets/controls",
            "_model_module_version": "1.5.0",
            "_model_name": "TextModel",
            "_view_count": null,
            "_view_module": "@jupyter-widgets/controls",
            "_view_module_version": "1.5.0",
            "_view_name": "TextView",
            "continuous_update": true,
            "description": "search",
            "description_tooltip": null,
            "disabled": false,
            "layout": "IPY_MODEL_43090474039b4ce68bb7a87d5d70a7de",
            "placeholder": "​",
            "style": "IPY_MODEL_78d85589e80340da9f493c566c782d0c",
            "value": "FXY1==307092"
          }
        }
      }
    }
  },
  "nbformat": 4,
  "nbformat_minor": 0
}
